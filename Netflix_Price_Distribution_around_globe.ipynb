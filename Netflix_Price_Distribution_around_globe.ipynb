{
  "cells": [
    {
      "cell_type": "code",
      "execution_count": 2,
      "metadata": {
        "cellView": "code",
        "colab": {
          "base_uri": "https://localhost:8080/",
          "height": 306
        },
        "id": "O9BRqAvIt25g",
        "outputId": "1b3013ab-30ee-4c35-e4e4-e1b08d8a2971"
      },
      "outputs": [
        {
          "output_type": "display_data",
          "data": {
            "text/html": [
              "<table class=\"dataframe\">\n",
              "<caption>A data.frame: 6 × 7</caption>\n",
              "<thead>\n",
              "\t<tr><th></th><th scope=col>Country</th><th scope=col>Total.Library.Size</th><th scope=col>No..of.TV.Shows</th><th scope=col>No..of.Movies</th><th scope=col>Cost.Per.Month...Basic....</th><th scope=col>Cost.Per.Month...Standard....</th><th scope=col>Cost.Per.Month...Premium....</th></tr>\n",
              "\t<tr><th></th><th scope=col>&lt;chr&gt;</th><th scope=col>&lt;int&gt;</th><th scope=col>&lt;int&gt;</th><th scope=col>&lt;int&gt;</th><th scope=col>&lt;dbl&gt;</th><th scope=col>&lt;dbl&gt;</th><th scope=col>&lt;dbl&gt;</th></tr>\n",
              "</thead>\n",
              "<tbody>\n",
              "\t<tr><th scope=row>1</th><td>Argentina</td><td>4760</td><td>3154</td><td>1606</td><td>3.74</td><td> 6.30</td><td> 9.26</td></tr>\n",
              "\t<tr><th scope=row>2</th><td>Austria  </td><td>5640</td><td>3779</td><td>1861</td><td>9.03</td><td>14.67</td><td>20.32</td></tr>\n",
              "\t<tr><th scope=row>3</th><td>Bolivia  </td><td>4991</td><td>3155</td><td>1836</td><td>7.99</td><td>10.99</td><td>13.99</td></tr>\n",
              "\t<tr><th scope=row>4</th><td>Bulgaria </td><td>6797</td><td>4819</td><td>1978</td><td>9.03</td><td>11.29</td><td>13.54</td></tr>\n",
              "\t<tr><th scope=row>5</th><td>Chile    </td><td>4994</td><td>3156</td><td>1838</td><td>7.07</td><td> 9.91</td><td>12.74</td></tr>\n",
              "\t<tr><th scope=row>6</th><td>Colombia </td><td>4991</td><td>3156</td><td>1835</td><td>4.31</td><td> 6.86</td><td> 9.93</td></tr>\n",
              "</tbody>\n",
              "</table>\n"
            ],
            "text/markdown": "\nA data.frame: 6 × 7\n\n| <!--/--> | Country &lt;chr&gt; | Total.Library.Size &lt;int&gt; | No..of.TV.Shows &lt;int&gt; | No..of.Movies &lt;int&gt; | Cost.Per.Month...Basic.... &lt;dbl&gt; | Cost.Per.Month...Standard.... &lt;dbl&gt; | Cost.Per.Month...Premium.... &lt;dbl&gt; |\n|---|---|---|---|---|---|---|---|\n| 1 | Argentina | 4760 | 3154 | 1606 | 3.74 |  6.30 |  9.26 |\n| 2 | Austria   | 5640 | 3779 | 1861 | 9.03 | 14.67 | 20.32 |\n| 3 | Bolivia   | 4991 | 3155 | 1836 | 7.99 | 10.99 | 13.99 |\n| 4 | Bulgaria  | 6797 | 4819 | 1978 | 9.03 | 11.29 | 13.54 |\n| 5 | Chile     | 4994 | 3156 | 1838 | 7.07 |  9.91 | 12.74 |\n| 6 | Colombia  | 4991 | 3156 | 1835 | 4.31 |  6.86 |  9.93 |\n\n",
            "text/latex": "A data.frame: 6 × 7\n\\begin{tabular}{r|lllllll}\n  & Country & Total.Library.Size & No..of.TV.Shows & No..of.Movies & Cost.Per.Month...Basic.... & Cost.Per.Month...Standard.... & Cost.Per.Month...Premium....\\\\\n  & <chr> & <int> & <int> & <int> & <dbl> & <dbl> & <dbl>\\\\\n\\hline\n\t1 & Argentina & 4760 & 3154 & 1606 & 3.74 &  6.30 &  9.26\\\\\n\t2 & Austria   & 5640 & 3779 & 1861 & 9.03 & 14.67 & 20.32\\\\\n\t3 & Bolivia   & 4991 & 3155 & 1836 & 7.99 & 10.99 & 13.99\\\\\n\t4 & Bulgaria  & 6797 & 4819 & 1978 & 9.03 & 11.29 & 13.54\\\\\n\t5 & Chile     & 4994 & 3156 & 1838 & 7.07 &  9.91 & 12.74\\\\\n\t6 & Colombia  & 4991 & 3156 & 1835 & 4.31 &  6.86 &  9.93\\\\\n\\end{tabular}\n",
            "text/plain": [
              "  Country   Total.Library.Size No..of.TV.Shows No..of.Movies\n",
              "1 Argentina 4760               3154            1606         \n",
              "2 Austria   5640               3779            1861         \n",
              "3 Bolivia   4991               3155            1836         \n",
              "4 Bulgaria  6797               4819            1978         \n",
              "5 Chile     4994               3156            1838         \n",
              "6 Colombia  4991               3156            1835         \n",
              "  Cost.Per.Month...Basic.... Cost.Per.Month...Standard....\n",
              "1 3.74                        6.30                        \n",
              "2 9.03                       14.67                        \n",
              "3 7.99                       10.99                        \n",
              "4 9.03                       11.29                        \n",
              "5 7.07                        9.91                        \n",
              "6 4.31                        6.86                        \n",
              "  Cost.Per.Month...Premium....\n",
              "1  9.26                       \n",
              "2 20.32                       \n",
              "3 13.99                       \n",
              "4 13.54                       \n",
              "5 12.74                       \n",
              "6  9.93                       "
            ]
          },
          "metadata": {}
        }
      ],
      "source": [
        "myData = read.csv('/content/netflix price in different countries.csv', header = T)\n",
        "head(myData)"
      ]
    },
    {
      "cell_type": "markdown",
      "metadata": {
        "id": "QFLix9Fb30zc"
      },
      "source": [
        "mean of (no. of movies,shows,library size, cost per month on standard/basic/premium basis)"
      ]
    },
    {
      "cell_type": "code",
      "source": [
        "pie(myData$Cost.Per.Month...Standard....,myData$Country)"
      ],
      "metadata": {
        "colab": {
          "base_uri": "https://localhost:8080/",
          "height": 437
        },
        "id": "iCpQtn7xVd_h",
        "outputId": "e9f85412-dcba-49a1-cf72-08e215ef9076"
      },
      "execution_count": 3,
      "outputs": [
        {
          "output_type": "display_data",
          "data": {
            "text/plain": [
              "plot without title"
            ],
            "image/png": "[encoded data removed]"
          },
          "metadata": {
            "image/png": {
              "width": 420,
              "height": 420
            }
          }
        }
      ]
    },
    {
      "cell_type": "code",
      "execution_count": 4,
      "metadata": {
        "colab": {
          "base_uri": "https://localhost:8080/"
        },
        "id": "pQl8jzW822My",
        "outputId": "9df662b7-fba2-4d11-9f30-a88c44c93998"
      },
      "outputs": [
        {
          "output_type": "stream",
          "name": "stdout",
          "text": [
            "[1] 5314.415\n"
          ]
        }
      ],
      "source": [
        "mean1 = mean(myData$Total.Library.Size)\n",
        "print(mean1)"
      ]
    },
    {
      "cell_type": "code",
      "execution_count": 5,
      "metadata": {
        "colab": {
          "base_uri": "https://localhost:8080/"
        },
        "id": "YSFmYxsn27Sk",
        "outputId": "f696a410-4d8d-4754-9c97-8b92b6723d61"
      },
      "outputs": [
        {
          "output_type": "stream",
          "name": "stdout",
          "text": [
            "[1] 3518.954\n"
          ]
        }
      ],
      "source": [
        "mean2 = mean(myData$No..of.TV.Shows)\n",
        "print(mean2)"
      ]
    },
    {
      "cell_type": "code",
      "execution_count": 6,
      "metadata": {
        "colab": {
          "base_uri": "https://localhost:8080/"
        },
        "id": "9M3GJB3w2---",
        "outputId": "1af643dc-61fd-4b19-85ce-f9525b6a8b74"
      },
      "outputs": [
        {
          "output_type": "stream",
          "name": "stdout",
          "text": [
            "[1] 8.368462\n"
          ]
        }
      ],
      "source": [
        "mean3 = mean(myData$Cost.Per.Month...Basic....)\n",
        "print(mean3)"
      ]
    },
    {
      "cell_type": "code",
      "execution_count": 7,
      "metadata": {
        "colab": {
          "base_uri": "https://localhost:8080/"
        },
        "id": "68HcWcnk3Ay-",
        "outputId": "3e9e81da-2da8-48dd-f87d-2594414cc51d"
      },
      "outputs": [
        {
          "output_type": "stream",
          "name": "stdout",
          "text": [
            "[1] 11.99\n"
          ]
        }
      ],
      "source": [
        "mean4 = mean(myData$Cost.Per.Month...Standard....)\n",
        "print(mean4)"
      ]
    },
    {
      "cell_type": "code",
      "execution_count": 8,
      "metadata": {
        "colab": {
          "base_uri": "https://localhost:8080/"
        },
        "id": "NYhRSwJ03Fhz",
        "outputId": "c5a00172-7ef3-48ba-f854-32af05b4adee"
      },
      "outputs": [
        {
          "output_type": "stream",
          "name": "stdout",
          "text": [
            "[1] 15.61292\n"
          ]
        }
      ],
      "source": [
        "mean5 = mean(myData$Cost.Per.Month...Premium....)\n",
        "print(mean5)"
      ]
    },
    {
      "cell_type": "code",
      "execution_count": 9,
      "metadata": {
        "colab": {
          "base_uri": "https://localhost:8080/"
        },
        "id": "HUFACctw3GVN",
        "outputId": "0ffa021e-db9f-4e5a-d976-a1ddfd146646"
      },
      "outputs": [
        {
          "output_type": "stream",
          "name": "stdout",
          "text": [
            "[1] 1795.462\n"
          ]
        }
      ],
      "source": [
        "mean6 = mean(myData$No..of.Movies)\n",
        "print(mean6)"
      ]
    },
    {
      "cell_type": "markdown",
      "metadata": {
        "id": "JosMaFty4ZpJ"
      },
      "source": [
        "median of (no. of movies,shows,library size, cost per month on standard/basic/premium basis)"
      ]
    },
    {
      "cell_type": "code",
      "execution_count": 10,
      "metadata": {
        "colab": {
          "base_uri": "https://localhost:8080/"
        },
        "id": "ya5ko0wz4TWB",
        "outputId": "36fb7951-2769-4512-83fe-d93a755d6a1c"
      },
      "outputs": [
        {
          "output_type": "stream",
          "name": "stdout",
          "text": [
            "[1] 5195\n"
          ]
        }
      ],
      "source": [
        "median1 = median(myData$Total.Library.Size)\n",
        "print(median1)"
      ]
    },
    {
      "cell_type": "code",
      "execution_count": 11,
      "metadata": {
        "colab": {
          "base_uri": "https://localhost:8080/"
        },
        "id": "9TPQa49w4hVb",
        "outputId": "5a4ddc6f-cd02-445d-ac09-61a1b901b5f2"
      },
      "outputs": [
        {
          "output_type": "stream",
          "name": "stdout",
          "text": [
            "[1] 3512\n"
          ]
        }
      ],
      "source": [
        "median2 = median(myData$No..of.TV.Shows)\n",
        "print(median2)"
      ]
    },
    {
      "cell_type": "code",
      "execution_count": 12,
      "metadata": {
        "colab": {
          "base_uri": "https://localhost:8080/"
        },
        "id": "IWJIJDNQ4iU0",
        "outputId": "687e5ca9-9362-4d72-c3c3-602c37d77689"
      },
      "outputs": [
        {
          "output_type": "stream",
          "name": "stdout",
          "text": [
            "[1] 8.99\n"
          ]
        }
      ],
      "source": [
        "median3 = median(myData$Cost.Per.Month...Basic....)\n",
        "print(median3)"
      ]
    },
    {
      "cell_type": "code",
      "execution_count": 13,
      "metadata": {
        "colab": {
          "base_uri": "https://localhost:8080/"
        },
        "id": "PycC5Hjh4i0a",
        "outputId": "e6f9b5ee-9812-4005-c658-7ddf65439fe1"
      },
      "outputs": [
        {
          "output_type": "stream",
          "name": "stdout",
          "text": [
            "[1] 11.49\n"
          ]
        }
      ],
      "source": [
        "median4 = median(myData$Cost.Per.Month...Standard....)\n",
        "print(median4)"
      ]
    },
    {
      "cell_type": "code",
      "execution_count": 14,
      "metadata": {
        "colab": {
          "base_uri": "https://localhost:8080/"
        },
        "id": "wi8Dqry84jPL",
        "outputId": "78635fe7-d571-4225-bb64-a598d94b1a34"
      },
      "outputs": [
        {
          "output_type": "stream",
          "name": "stdout",
          "text": [
            "[1] 14.45\n"
          ]
        }
      ],
      "source": [
        "median5 = median(myData$Cost.Per.Month...Premium....)\n",
        "print(median5)"
      ]
    },
    {
      "cell_type": "code",
      "execution_count": 15,
      "metadata": {
        "colab": {
          "base_uri": "https://localhost:8080/"
        },
        "id": "7YL0nxzW4jlo",
        "outputId": "8eb8e254-14c0-4862-c440-5fb8326e6bbe"
      },
      "outputs": [
        {
          "output_type": "stream",
          "name": "stdout",
          "text": [
            "[1] 1841\n"
          ]
        }
      ],
      "source": [
        "median6 = median(myData$No..of.Movies)\n",
        "print(median6)"
      ]
    },
    {
      "cell_type": "markdown",
      "metadata": {
        "id": "1ZCQf8Mr5s2k"
      },
      "source": [
        "minimum and maximum no. "
      ]
    },
    {
      "cell_type": "code",
      "execution_count": 16,
      "metadata": {
        "colab": {
          "base_uri": "https://localhost:8080/"
        },
        "id": "ef4O0OQMNdLO",
        "outputId": "561d069f-61cc-4651-862e-e97ac9406421"
      },
      "outputs": [
        {
          "output_type": "stream",
          "name": "stdout",
          "text": [
            "Min,max range is:\n",
            "[1] 5051\n"
          ]
        }
      ],
      "source": [
        "# Calculate the maximum\n",
        "max1 = max(myData$Total.Library.Size)\n",
        "# Calculate the minimum\n",
        "min1 = min(myData$Total.Library.Size)\n",
        "# Calculate the range\n",
        "range1 = max1 - min1\n",
        " \n",
        "cat(\"Min,max range is:\\n\")\n",
        "print(range1)\n",
        " \n",
        "# Alternate method to get min and max\n",
        "# r = range(myData$Age)\n",
        "# print(r)"
      ]
    },
    {
      "cell_type": "code",
      "source": [
        "max2 = max(myData$No..of.TV.Shows)\n",
        "print(max2)"
      ],
      "metadata": {
        "colab": {
          "base_uri": "https://localhost:8080/"
        },
        "id": "-pBSTKwZw37D",
        "outputId": "fd5bf4be-1b29-471f-a26f-96b6d87a5b55"
      },
      "execution_count": 17,
      "outputs": [
        {
          "output_type": "stream",
          "name": "stdout",
          "text": [
            "[1] 5234\n"
          ]
        }
      ]
    },
    {
      "cell_type": "code",
      "source": [
        "min2 = min(myData$No..of.TV.Shows)\n",
        "print(min2)"
      ],
      "metadata": {
        "colab": {
          "base_uri": "https://localhost:8080/"
        },
        "id": "E-AAJhjdw-qX",
        "outputId": "fa7046d8-578d-4cdf-cf1d-8d2ca6a242ab"
      },
      "execution_count": 18,
      "outputs": [
        {
          "output_type": "stream",
          "name": "stdout",
          "text": [
            "[1] 1675\n"
          ]
        }
      ]
    },
    {
      "cell_type": "code",
      "execution_count": 19,
      "metadata": {
        "colab": {
          "base_uri": "https://localhost:8080/"
        },
        "id": "H1rV5CTdOn9W",
        "outputId": "1e214458-0050-40db-a19f-aa0cc2010cee"
      },
      "outputs": [
        {
          "output_type": "stream",
          "name": "stdout",
          "text": [
            "Min,max range is:\n",
            "[1] 3559\n"
          ]
        }
      ],
      "source": [
        "# Calculate the maximum\n",
        "max2 = max(myData$No..of.TV.Shows)\n",
        "# Calculate the minimum\n",
        "min2 = min(myData$No..of.TV.Shows)\n",
        "# Calculate the range\n",
        "range2 = max2 - min2\n",
        " \n",
        "cat(\"Min,max range is:\\n\")\n",
        "print(range2)"
      ]
    },
    {
      "cell_type": "code",
      "source": [
        "max3 = max(myData$Cost.Per.Month...Basic....)\n",
        "print(max3)"
      ],
      "metadata": {
        "colab": {
          "base_uri": "https://localhost:8080/"
        },
        "id": "jWdA9CWZyYAm",
        "outputId": "5361ca56-da68-4de3-fe21-7b7e70cd5da7"
      },
      "execution_count": 20,
      "outputs": [
        {
          "output_type": "stream",
          "name": "stdout",
          "text": [
            "[1] 12.88\n"
          ]
        }
      ]
    },
    {
      "cell_type": "code",
      "source": [
        "min3 = min(myData$Cost.Per.Month...Basic....)\n",
        "print(min3)"
      ],
      "metadata": {
        "colab": {
          "base_uri": "https://localhost:8080/"
        },
        "id": "wSe3SJUSya-v",
        "outputId": "bc19230c-c568-467a-c609-66f0235f9136"
      },
      "execution_count": 21,
      "outputs": [
        {
          "output_type": "stream",
          "name": "stdout",
          "text": [
            "[1] 1.97\n"
          ]
        }
      ]
    },
    {
      "cell_type": "code",
      "execution_count": 22,
      "metadata": {
        "colab": {
          "base_uri": "https://localhost:8080/"
        },
        "id": "ObkhT7jLO3_i",
        "outputId": "601db70b-eb2e-40f3-9a44-4d60696e0819"
      },
      "outputs": [
        {
          "output_type": "stream",
          "name": "stdout",
          "text": [
            "Min,max range is:\n",
            "[1] 10.91\n"
          ]
        }
      ],
      "source": [
        "# Calculate the maximum\n",
        "max3 = max(myData$Cost.Per.Month...Basic....)\n",
        "# Calculate the minimum\n",
        "min3 = min(myData$Cost.Per.Month...Basic....)\n",
        "# Calculate the range\n",
        "range3 = max3 - min3\n",
        " \n",
        "cat(\"Min,max range is:\\n\")\n",
        "print(range3)"
      ]
    },
    {
      "cell_type": "code",
      "source": [
        "max4 = max(myData$Cost.Per.Month...Standard....)\n",
        "print(max4)"
      ],
      "metadata": {
        "colab": {
          "base_uri": "https://localhost:8080/"
        },
        "id": "a-iQzwiwyhdW",
        "outputId": "930de4ab-1867-4504-cb92-973c2929d093"
      },
      "execution_count": 23,
      "outputs": [
        {
          "output_type": "stream",
          "name": "stdout",
          "text": [
            "[1] 20.46\n"
          ]
        }
      ]
    },
    {
      "cell_type": "code",
      "source": [
        "min4 = min(myData$Cost.Per.Month...Standard....)\n",
        "print(min4)"
      ],
      "metadata": {
        "colab": {
          "base_uri": "https://localhost:8080/"
        },
        "id": "CfbXf8qCykKu",
        "outputId": "2474b5ae-db45-4a63-c833-177d3c7b15a3"
      },
      "execution_count": 24,
      "outputs": [
        {
          "output_type": "stream",
          "name": "stdout",
          "text": [
            "[1] 3\n"
          ]
        }
      ]
    },
    {
      "cell_type": "code",
      "execution_count": 25,
      "metadata": {
        "colab": {
          "base_uri": "https://localhost:8080/"
        },
        "id": "tGZcxTHlPF2D",
        "outputId": "0d725534-5a10-4bd5-c06c-3581633d1bb8"
      },
      "outputs": [
        {
          "output_type": "stream",
          "name": "stdout",
          "text": [
            "Min,max range is:\n",
            "[1] 17.46\n"
          ]
        }
      ],
      "source": [
        "# Calculate the maximum\n",
        "max4 = max(myData$Cost.Per.Month...Standard....)\n",
        "# Calculate the minimum\n",
        "min4 = min(myData$Cost.Per.Month...Standard....)\n",
        "# Calculate the range\n",
        "range4 = max4 - min4\n",
        " \n",
        "cat(\"Min,max range is:\\n\")\n",
        "print(range4)"
      ]
    },
    {
      "cell_type": "code",
      "source": [
        "max5 = max(myData$Cost.Per.Month...Premium....)\n",
        "print(max5)"
      ],
      "metadata": {
        "colab": {
          "base_uri": "https://localhost:8080/"
        },
        "id": "xyX6EzuoyuAd",
        "outputId": "833421b4-910a-4341-e7e1-d7ce78fa5fe1"
      },
      "execution_count": 26,
      "outputs": [
        {
          "output_type": "stream",
          "name": "stdout",
          "text": [
            "[1] 26.96\n"
          ]
        }
      ]
    },
    {
      "cell_type": "code",
      "source": [
        "min5 = min(myData$Cost.Per.Month...Premium....)\n",
        "print(min5)"
      ],
      "metadata": {
        "colab": {
          "base_uri": "https://localhost:8080/"
        },
        "id": "0A2dJvLryzSQ",
        "outputId": "2cb8c326-da41-4046-853f-030888eb85eb"
      },
      "execution_count": 27,
      "outputs": [
        {
          "output_type": "stream",
          "name": "stdout",
          "text": [
            "[1] 4.02\n"
          ]
        }
      ]
    },
    {
      "cell_type": "code",
      "execution_count": 28,
      "metadata": {
        "colab": {
          "base_uri": "https://localhost:8080/"
        },
        "id": "ElYpmSwMPUwj",
        "outputId": "c451596d-8cab-4b98-d499-30d7a9a04346"
      },
      "outputs": [
        {
          "output_type": "stream",
          "name": "stdout",
          "text": [
            "Min,max range is:\n",
            "[1] 22.94\n"
          ]
        }
      ],
      "source": [
        "# Calculate the maximum\n",
        "max5 = max(myData$Cost.Per.Month...Premium....)\n",
        "# Calculate the minimum\n",
        "min5 = min(myData$Cost.Per.Month...Premium....)\n",
        "# Calculate the range\n",
        "range5 = max5 - min5\n",
        " \n",
        "cat(\"Min,max range is:\\n\")\n",
        "print(range5)"
      ]
    },
    {
      "cell_type": "code",
      "source": [
        "max6 = max(myData$No..of.Movies)\n",
        "print(max6)"
      ],
      "metadata": {
        "colab": {
          "base_uri": "https://localhost:8080/"
        },
        "id": "x6M0F7qWy70i",
        "outputId": "36763d29-51b9-4187-9ef7-a12ae5af4689"
      },
      "execution_count": 30,
      "outputs": [
        {
          "output_type": "stream",
          "name": "stdout",
          "text": [
            "[1] 2387\n"
          ]
        }
      ]
    },
    {
      "cell_type": "code",
      "source": [
        "min6 = min(myData$No..of.Movies)\n",
        "print(min6)"
      ],
      "metadata": {
        "colab": {
          "base_uri": "https://localhost:8080/"
        },
        "id": "L93cphgSzA6C",
        "outputId": "9ca8c6cc-e219-4d1c-d24e-c8fb5257f666"
      },
      "execution_count": 29,
      "outputs": [
        {
          "output_type": "stream",
          "name": "stdout",
          "text": [
            "[1] 373\n"
          ]
        }
      ]
    },
    {
      "cell_type": "code",
      "execution_count": 31,
      "metadata": {
        "colab": {
          "base_uri": "https://localhost:8080/"
        },
        "id": "JTKc9sRyT507",
        "outputId": "d8217b7c-bd2c-43e3-c661-11817f2f31ed"
      },
      "outputs": [
        {
          "output_type": "stream",
          "name": "stdout",
          "text": [
            "Min,max range is:\n",
            "[1] 2014\n"
          ]
        }
      ],
      "source": [
        "# Calculate the maximum\n",
        "max6 = max(myData$No..of.Movies)\n",
        "# Calculate the minimum\n",
        "min6 = min(myData$No..of.Movies)\n",
        "# Calculate the range\n",
        "range6 = max6 - min6\n",
        " \n",
        "cat(\"Min,max range is:\\n\")\n",
        "print(range6)"
      ]
    },
    {
      "cell_type": "markdown",
      "metadata": {
        "id": "AVCWkH_8QYQB"
      },
      "source": [
        "calculating variance of the variables\n",
        "\n"
      ]
    },
    {
      "cell_type": "code",
      "execution_count": 32,
      "metadata": {
        "colab": {
          "base_uri": "https://localhost:8080/"
        },
        "id": "KkeWaj3eQL8D",
        "outputId": "3ae5fb1b-1cac-4ffc-f289-04aaaf632759"
      },
      "outputs": [
        {
          "output_type": "stream",
          "name": "stdout",
          "text": [
            "[1] 961032.5\n"
          ]
        }
      ],
      "source": [
        "# Calculating variance\n",
        "variance1 = var(myData$Total.Library.Size)\n",
        "print(variance1)"
      ]
    },
    {
      "cell_type": "code",
      "execution_count": 33,
      "metadata": {
        "colab": {
          "base_uri": "https://localhost:8080/"
        },
        "id": "QvnjtWsvRJBF",
        "outputId": "3dbc9ba8-db07-4863-8d76-b70d9e0d8520"
      },
      "outputs": [
        {
          "output_type": "stream",
          "name": "stdout",
          "text": [
            "[1] 522744.3\n"
          ]
        }
      ],
      "source": [
        "variance2 = var(myData$No..of.TV.Shows)\n",
        "print(variance2)"
      ]
    },
    {
      "cell_type": "code",
      "execution_count": 34,
      "metadata": {
        "colab": {
          "base_uri": "https://localhost:8080/"
        },
        "id": "c_-XmGPiRVw7",
        "outputId": "611d15d9-d964-41c0-e07c-b69e18f07040"
      },
      "outputs": [
        {
          "output_type": "stream",
          "name": "stdout",
          "text": [
            "[1] 3.755141\n"
          ]
        }
      ],
      "source": [
        "variance3 = var(myData$Cost.Per.Month...Basic....)\n",
        "print(variance3)"
      ]
    },
    {
      "cell_type": "code",
      "execution_count": 35,
      "metadata": {
        "colab": {
          "base_uri": "https://localhost:8080/"
        },
        "id": "wWmMcUmZRXPQ",
        "outputId": "b7ec8bea-7b2f-4ce2-e3a0-9c6c47b8bc47"
      },
      "outputs": [
        {
          "output_type": "stream",
          "name": "stdout",
          "text": [
            "[1] 8.202375\n"
          ]
        }
      ],
      "source": [
        "variance4 = var(myData$Cost.Per.Month...Standard....)\n",
        "print(variance4)"
      ]
    },
    {
      "cell_type": "code",
      "execution_count": 36,
      "metadata": {
        "colab": {
          "base_uri": "https://localhost:8080/"
        },
        "id": "mqVNGDUxRZEf",
        "outputId": "66a4b266-a6dc-44c6-eeb6-d7968386b912"
      },
      "outputs": [
        {
          "output_type": "stream",
          "name": "stdout",
          "text": [
            "[1] 16.32703\n"
          ]
        }
      ],
      "source": [
        "variance5 = var(myData$Cost.Per.Month...Premium....)\n",
        "print(variance5)"
      ]
    },
    {
      "cell_type": "code",
      "execution_count": 37,
      "metadata": {
        "colab": {
          "base_uri": "https://localhost:8080/"
        },
        "id": "UKSbe70XRaLI",
        "outputId": "12a244aa-4733-46d6-dda1-51e0bcd53b9d"
      },
      "outputs": [
        {
          "output_type": "stream",
          "name": "stdout",
          "text": [
            "[1] 107112\n"
          ]
        }
      ],
      "source": [
        "variance6 = var(myData$No..of.Movies)\n",
        "print(variance6)"
      ]
    },
    {
      "cell_type": "markdown",
      "metadata": {
        "id": "EviN1yYHVYnV"
      },
      "source": [
        "calculating Standard Deviation (SD) of the variables"
      ]
    },
    {
      "cell_type": "code",
      "execution_count": 38,
      "metadata": {
        "colab": {
          "base_uri": "https://localhost:8080/"
        },
        "id": "9zVWzVFNVTSn",
        "outputId": "e4751e79-8fd6-45b9-87d3-c6fe40b9629e"
      },
      "outputs": [
        {
          "output_type": "stream",
          "name": "stdout",
          "text": [
            "[1] 980.3226\n"
          ]
        }
      ],
      "source": [
        "# Calculating Standard deviation\n",
        "std1 = sd(myData$Total.Library.Size)\n",
        "print(std1)"
      ]
    },
    {
      "cell_type": "code",
      "execution_count": 39,
      "metadata": {
        "colab": {
          "base_uri": "https://localhost:8080/"
        },
        "id": "PZDkSa8oVm5A",
        "outputId": "1ac25f0c-1806-4871-af86-b6071aa444f2"
      },
      "outputs": [
        {
          "output_type": "stream",
          "name": "stdout",
          "text": [
            "[1] 723.0106\n"
          ]
        }
      ],
      "source": [
        "std2 = sd(myData$No..of.TV.Shows)\n",
        "print(std2)"
      ]
    },
    {
      "cell_type": "code",
      "execution_count": 40,
      "metadata": {
        "colab": {
          "base_uri": "https://localhost:8080/"
        },
        "id": "FLmXP63IVn7l",
        "outputId": "accee5c8-530f-47e1-ce3d-ed269d15124a"
      },
      "outputs": [
        {
          "output_type": "stream",
          "name": "stdout",
          "text": [
            "[1] 1.937819\n"
          ]
        }
      ],
      "source": [
        "std3 = sd(myData$Cost.Per.Month...Basic....)\n",
        "print(std3)"
      ]
    },
    {
      "cell_type": "code",
      "execution_count": 41,
      "metadata": {
        "colab": {
          "base_uri": "https://localhost:8080/"
        },
        "id": "fvVvAqSjVoyn",
        "outputId": "3d64ab66-cb44-4f1e-a479-50b52e319c04"
      },
      "outputs": [
        {
          "output_type": "stream",
          "name": "stdout",
          "text": [
            "[1] 2.863979\n"
          ]
        }
      ],
      "source": [
        "std4 = sd(myData$Cost.Per.Month...Standard....)\n",
        "print(std4)"
      ]
    },
    {
      "cell_type": "code",
      "execution_count": 42,
      "metadata": {
        "colab": {
          "base_uri": "https://localhost:8080/"
        },
        "id": "cL230XTPVpil",
        "outputId": "2035353b-152b-4613-ff68-e363c7f93eca"
      },
      "outputs": [
        {
          "output_type": "stream",
          "name": "stdout",
          "text": [
            "[1] 4.040672\n"
          ]
        }
      ],
      "source": [
        "std5 = sd(myData$Cost.Per.Month...Premium....)\n",
        "print(std5)"
      ]
    },
    {
      "cell_type": "code",
      "execution_count": 43,
      "metadata": {
        "colab": {
          "base_uri": "https://localhost:8080/"
        },
        "id": "spo-9KbaVqNX",
        "outputId": "f2f1e008-c417-4487-9cca-416eb199a87c"
      },
      "outputs": [
        {
          "output_type": "stream",
          "name": "stdout",
          "text": [
            "[1] 327.2797\n"
          ]
        }
      ],
      "source": [
        "std6 = sd(myData$No..of.Movies)\n",
        "print(std6)"
      ]
    },
    {
      "cell_type": "code",
      "execution_count": 44,
      "metadata": {
        "colab": {
          "base_uri": "https://localhost:8080/"
        },
        "id": "S04IbZLlHCmw",
        "outputId": "d3e664cd-635d-49dc-b83c-cee8e7ee9357"
      },
      "outputs": [
        {
          "output_type": "stream",
          "name": "stdout",
          "text": [
            "  0%  25%  50%  75% 100% \n",
            "2274 4948 5195 5952 7325 \n"
          ]
        }
      ],
      "source": [
        "# Calculating Quartiles\n",
        "quartiles1 = quantile(myData$Total.Library.Size)\n",
        "print(quartiles1)"
      ]
    },
    {
      "cell_type": "code",
      "execution_count": 45,
      "metadata": {
        "colab": {
          "base_uri": "https://localhost:8080/"
        },
        "id": "IJI68IYrHCes",
        "outputId": "4e84e750-1a2b-48e7-b3a8-59f49b81fcce"
      },
      "outputs": [
        {
          "output_type": "stream",
          "name": "stdout",
          "text": [
            "  0%  25%  50%  75% 100% \n",
            "1675 3154 3512 3832 5234 \n"
          ]
        }
      ],
      "source": [
        "quartiles2 = quantile(myData$No..of.TV.Shows)\n",
        "print(quartiles2)"
      ]
    },
    {
      "cell_type": "code",
      "execution_count": 46,
      "metadata": {
        "colab": {
          "base_uri": "https://localhost:8080/"
        },
        "id": "8c7WyCsVHCbU",
        "outputId": "3314515e-9f72-4fbf-e0cc-97d79a1f0e8c"
      },
      "outputs": [
        {
          "output_type": "stream",
          "name": "stdout",
          "text": [
            "   0%   25%   50%   75%  100% \n",
            " 1.97  7.99  8.99  9.03 12.88 \n"
          ]
        }
      ],
      "source": [
        "quartiles3 = quantile(myData$Cost.Per.Month...Basic....)\n",
        "print(quartiles3)"
      ]
    },
    {
      "cell_type": "code",
      "execution_count": 47,
      "metadata": {
        "colab": {
          "base_uri": "https://localhost:8080/"
        },
        "id": "uUUdgIIYHCVf",
        "outputId": "1176eae4-50fb-4746-d6cb-4b0c6c80977b"
      },
      "outputs": [
        {
          "output_type": "stream",
          "name": "stdout",
          "text": [
            "   0%   25%   50%   75%  100% \n",
            " 3.00 10.71 11.49 13.54 20.46 \n"
          ]
        }
      ],
      "source": [
        "quartiles4 = quantile(myData$Cost.Per.Month...Standard....)\n",
        "print(quartiles4)"
      ]
    },
    {
      "cell_type": "code",
      "execution_count": 48,
      "metadata": {
        "colab": {
          "base_uri": "https://localhost:8080/"
        },
        "id": "4qdxz04sHCR_",
        "outputId": "39a36838-1e27-47cd-c979-1a01d8489015"
      },
      "outputs": [
        {
          "output_type": "stream",
          "name": "stdout",
          "text": [
            "   0%   25%   50%   75%  100% \n",
            " 4.02 13.54 14.45 18.06 26.96 \n"
          ]
        }
      ],
      "source": [
        "quartiles5 = quantile(myData$Cost.Per.Month...Premium....)\n",
        "print(quartiles5)"
      ]
    },
    {
      "cell_type": "code",
      "execution_count": 49,
      "metadata": {
        "colab": {
          "base_uri": "https://localhost:8080/"
        },
        "id": "Q2Rec7tFHCIV",
        "outputId": "1bed908e-dee5-4812-db0a-1bd50f5f983d"
      },
      "outputs": [
        {
          "output_type": "stream",
          "name": "stdout",
          "text": [
            "  0%  25%  50%  75% 100% \n",
            " 373 1628 1841 1980 2387 \n"
          ]
        }
      ],
      "source": [
        "quartiles6 = quantile(myData$No..of.Movies)\n",
        "print(quartiles6)"
      ]
    },
    {
      "cell_type": "code",
      "execution_count": 50,
      "metadata": {
        "colab": {
          "base_uri": "https://localhost:8080/"
        },
        "id": "VA_Ek-ICHMNH",
        "outputId": "b13de818-9898-4f2b-8d69-7a70f8515d31"
      },
      "outputs": [
        {
          "output_type": "stream",
          "name": "stdout",
          "text": [
            "[1] 1004\n"
          ]
        }
      ],
      "source": [
        "# Calculating IQR\n",
        "IQR1 = IQR(myData$Total.Library.Size)\n",
        "print(IQR1)"
      ]
    },
    {
      "cell_type": "code",
      "execution_count": 51,
      "metadata": {
        "colab": {
          "base_uri": "https://localhost:8080/"
        },
        "id": "sn5b9R5AH5iD",
        "outputId": "4606a97c-c5a8-4fb2-89d1-6d7595027fd8"
      },
      "outputs": [
        {
          "output_type": "stream",
          "name": "stdout",
          "text": [
            "[1] 678\n"
          ]
        }
      ],
      "source": [
        "IQR2 = IQR(myData$No..of.TV.Shows)\n",
        "print(IQR2)"
      ]
    },
    {
      "cell_type": "code",
      "execution_count": 52,
      "metadata": {
        "colab": {
          "base_uri": "https://localhost:8080/"
        },
        "id": "8e3p2zYsH7Qh",
        "outputId": "19377798-9874-4dae-f905-0940137a3dd4"
      },
      "outputs": [
        {
          "output_type": "stream",
          "name": "stdout",
          "text": [
            "[1] 1.04\n"
          ]
        }
      ],
      "source": [
        "IQR3 = IQR(myData$Cost.Per.Month...Basic....)\n",
        "print(IQR3)"
      ]
    },
    {
      "cell_type": "code",
      "execution_count": 53,
      "metadata": {
        "colab": {
          "base_uri": "https://localhost:8080/"
        },
        "id": "4S_hjfR6H8i0",
        "outputId": "d10c2bc8-537b-4899-8eb2-412b0f06bb42"
      },
      "outputs": [
        {
          "output_type": "stream",
          "name": "stdout",
          "text": [
            "[1] 2.83\n"
          ]
        }
      ],
      "source": [
        "IQR4 = IQR(myData$Cost.Per.Month...Standard....)\n",
        "print(IQR4)"
      ]
    },
    {
      "cell_type": "code",
      "execution_count": 54,
      "metadata": {
        "colab": {
          "base_uri": "https://localhost:8080/"
        },
        "id": "oSD36YuDH-SC",
        "outputId": "80ccb887-33ee-4ed1-ea7a-70c6851e1659"
      },
      "outputs": [
        {
          "output_type": "stream",
          "name": "stdout",
          "text": [
            "[1] 4.52\n"
          ]
        }
      ],
      "source": [
        "IQR5 = IQR(myData$Cost.Per.Month...Premium....)\n",
        "print(IQR5)"
      ]
    },
    {
      "cell_type": "code",
      "execution_count": 55,
      "metadata": {
        "colab": {
          "base_uri": "https://localhost:8080/"
        },
        "id": "2FvOxdANH9xI",
        "outputId": "1a9275a0-3405-415a-f951-52fcf48ec279"
      },
      "outputs": [
        {
          "output_type": "stream",
          "name": "stdout",
          "text": [
            "[1] 352\n"
          ]
        }
      ],
      "source": [
        "IQR6 = IQR(myData$No..of.Movies)\n",
        "print(IQR6)"
      ]
    },
    {
      "cell_type": "code",
      "execution_count": 56,
      "metadata": {
        "colab": {
          "base_uri": "https://localhost:8080/"
        },
        "id": "861L2NRTHaPA",
        "outputId": "917e4c71-57ca-4356-8fb4-c641af173812"
      },
      "outputs": [
        {
          "output_type": "stream",
          "name": "stdout",
          "text": [
            "   Min. 1st Qu.  Median    Mean 3rd Qu.    Max. \n",
            "   2274    4948    5195    5314    5952    7325 \n"
          ]
        }
      ],
      "source": [
        "# Calculating summary\n",
        "summary1 = summary(myData$Total.Library.Size)\n",
        "print(summary1)"
      ]
    },
    {
      "cell_type": "code",
      "execution_count": 57,
      "metadata": {
        "colab": {
          "base_uri": "https://localhost:8080/"
        },
        "id": "WXvDs4CHIBdm",
        "outputId": "1da67378-2ab8-4a21-f3a2-ca59ba5e7464"
      },
      "outputs": [
        {
          "output_type": "stream",
          "name": "stdout",
          "text": [
            "   Min. 1st Qu.  Median    Mean 3rd Qu.    Max. \n",
            "   1675    3154    3512    3519    3832    5234 \n"
          ]
        }
      ],
      "source": [
        "summary2 = summary(myData$No..of.TV.Shows)\n",
        "print(summary2)"
      ]
    },
    {
      "cell_type": "code",
      "execution_count": 58,
      "metadata": {
        "colab": {
          "base_uri": "https://localhost:8080/"
        },
        "id": "RjeWYpKKIHXQ",
        "outputId": "ede8f808-f725-495c-c54c-f3b82be5a8a5"
      },
      "outputs": [
        {
          "output_type": "stream",
          "name": "stdout",
          "text": [
            "   Min. 1st Qu.  Median    Mean 3rd Qu.    Max. \n",
            "  1.970   7.990   8.990   8.368   9.030  12.880 \n"
          ]
        }
      ],
      "source": [
        "summary3 = summary(myData$Cost.Per.Month...Basic....)\n",
        "print(summary3)"
      ]
    },
    {
      "cell_type": "code",
      "execution_count": 59,
      "metadata": {
        "colab": {
          "base_uri": "https://localhost:8080/"
        },
        "id": "iOJT4wSaIJYo",
        "outputId": "23439b6b-3917-47c2-89ff-d47b10d6c68d"
      },
      "outputs": [
        {
          "output_type": "stream",
          "name": "stdout",
          "text": [
            "   Min. 1st Qu.  Median    Mean 3rd Qu.    Max. \n",
            "   3.00   10.71   11.49   11.99   13.54   20.46 \n"
          ]
        }
      ],
      "source": [
        "summary4 = summary(myData$Cost.Per.Month...Standard....)\n",
        "print(summary4)"
      ]
    },
    {
      "cell_type": "code",
      "execution_count": 60,
      "metadata": {
        "colab": {
          "base_uri": "https://localhost:8080/"
        },
        "id": "ErAKzg1DIJIP",
        "outputId": "66c60366-b371-4bee-8b61-8e77bd1f11e2"
      },
      "outputs": [
        {
          "output_type": "stream",
          "name": "stdout",
          "text": [
            "   Min. 1st Qu.  Median    Mean 3rd Qu.    Max. \n",
            "   4.02   13.54   14.45   15.61   18.06   26.96 \n"
          ]
        }
      ],
      "source": [
        "summary5 = summary(myData$Cost.Per.Month...Premium....)\n",
        "print(summary5)"
      ]
    },
    {
      "cell_type": "code",
      "execution_count": 61,
      "metadata": {
        "colab": {
          "base_uri": "https://localhost:8080/"
        },
        "id": "p5zM0-zyIImI",
        "outputId": "83fdf4e0-901b-4c80-b3b8-510f572801ec"
      },
      "outputs": [
        {
          "output_type": "stream",
          "name": "stdout",
          "text": [
            "   Min. 1st Qu.  Median    Mean 3rd Qu.    Max. \n",
            "    373    1628    1841    1795    1980    2387 \n"
          ]
        }
      ],
      "source": [
        "summary6 = summary(myData$No..of.Movies)\n",
        "print(summary6)"
      ]
    },
    {
      "cell_type": "markdown",
      "metadata": {
        "id": "2h7kSdPMIPEg"
      },
      "source": [
        "final summary"
      ]
    },
    {
      "cell_type": "code",
      "execution_count": 62,
      "metadata": {
        "colab": {
          "base_uri": "https://localhost:8080/"
        },
        "id": "E6VzqtOGXK0l",
        "outputId": "59fe9652-812a-40d5-c756-a267ecde480f"
      },
      "outputs": [
        {
          "output_type": "stream",
          "name": "stdout",
          "text": [
            "   Country          Total.Library.Size No..of.TV.Shows No..of.Movies \n",
            " Length:65          Min.   :2274       Min.   :1675    Min.   : 373  \n",
            " Class :character   1st Qu.:4948       1st Qu.:3154    1st Qu.:1628  \n",
            " Mode  :character   Median :5195       Median :3512    Median :1841  \n",
            "                    Mean   :5314       Mean   :3519    Mean   :1795  \n",
            "                    3rd Qu.:5952       3rd Qu.:3832    3rd Qu.:1980  \n",
            "                    Max.   :7325       Max.   :5234    Max.   :2387  \n",
            " Cost.Per.Month...Basic.... Cost.Per.Month...Standard....\n",
            " Min.   : 1.970             Min.   : 3.00                \n",
            " 1st Qu.: 7.990             1st Qu.:10.71                \n",
            " Median : 8.990             Median :11.49                \n",
            " Mean   : 8.368             Mean   :11.99                \n",
            " 3rd Qu.: 9.030             3rd Qu.:13.54                \n",
            " Max.   :12.880             Max.   :20.46                \n",
            " Cost.Per.Month...Premium....\n",
            " Min.   : 4.02               \n",
            " 1st Qu.:13.54               \n",
            " Median :14.45               \n",
            " Mean   :15.61               \n",
            " 3rd Qu.:18.06               \n",
            " Max.   :26.96               \n"
          ]
        }
      ],
      "source": [
        "summary = summary(myData)\n",
        "print(summary)"
      ]
    },
    {
      "cell_type": "code",
      "source": [
        "scatter.smooth(myData$Cost.Per.Month...Standard....)"
      ],
      "metadata": {
        "colab": {
          "base_uri": "https://localhost:8080/",
          "height": 437
        },
        "id": "W0UB_61LSTly",
        "outputId": "b3fa03d6-b4b1-4221-87ad-06e3306db218"
      },
      "execution_count": 169,
      "outputs": [
        {
          "output_type": "display_data",
          "data": {
            "text/plain": [
              "plot without title"
            ],
            "image/png": "[encoded data removed]"
          },
          "metadata": {
            "image/png": {
              "width": 420,
              "height": 420
            }
          }
        }
      ]
    },
    {
      "cell_type": "markdown",
      "metadata": {
        "id": "6zqXQVR7NVKW"
      },
      "source": [
        "# **------Above was descriptive *analysis*------**\n"
      ]
    },
    {
      "cell_type": "code",
      "execution_count": 64,
      "metadata": {
        "id": "2v4qT-SnNOvr"
      },
      "outputs": [],
      "source": [
        "help(\"t.test\")"
      ]
    },
    {
      "cell_type": "code",
      "execution_count": 65,
      "metadata": {
        "id": "CrWSaQeDysaL"
      },
      "outputs": [],
      "source": [
        "library(ggplot2)"
      ]
    },
    {
      "cell_type": "code",
      "execution_count": 66,
      "metadata": {
        "id": "8FHOVDvxP0mZ",
        "colab": {
          "base_uri": "https://localhost:8080/"
        },
        "outputId": "cd442466-036d-4677-e86d-127667f0f702"
      },
      "outputs": [
        {
          "output_type": "stream",
          "name": "stderr",
          "text": [
            "Warning message in system(\"timedatectl\", intern = TRUE):\n",
            "“running command 'timedatectl' had status 1”\n",
            "── \u001b[1mAttaching packages\u001b[22m ─────────────────────────────────────── tidyverse 1.3.1 ──\n",
            "\n",
            "\u001b[32m✔\u001b[39m \u001b[34mtibble \u001b[39m 3.1.6     \u001b[32m✔\u001b[39m \u001b[34mdplyr  \u001b[39m 1.0.8\n",
            "\u001b[32m✔\u001b[39m \u001b[34mtidyr  \u001b[39m 1.2.0     \u001b[32m✔\u001b[39m \u001b[34mstringr\u001b[39m 1.4.0\n",
            "\u001b[32m✔\u001b[39m \u001b[34mreadr  \u001b[39m 2.1.2     \u001b[32m✔\u001b[39m \u001b[34mforcats\u001b[39m 0.5.1\n",
            "\u001b[32m✔\u001b[39m \u001b[34mpurrr  \u001b[39m 0.3.4     \n",
            "\n",
            "── \u001b[1mConflicts\u001b[22m ────────────────────────────────────────── tidyverse_conflicts() ──\n",
            "\u001b[31m✖\u001b[39m \u001b[34mdplyr\u001b[39m::\u001b[32mfilter()\u001b[39m masks \u001b[34mstats\u001b[39m::filter()\n",
            "\u001b[31m✖\u001b[39m \u001b[34mdplyr\u001b[39m::\u001b[32mlag()\u001b[39m    masks \u001b[34mstats\u001b[39m::lag()\n",
            "\n"
          ]
        }
      ],
      "source": [
        "library(tidyverse)"
      ]
    },
    {
      "cell_type": "code",
      "execution_count": 68,
      "metadata": {
        "colab": {
          "base_uri": "https://localhost:8080/"
        },
        "id": "hTDWLSDmVHOO",
        "outputId": "d3d95201-8f7b-4e1d-c681-78f0972c8c1e"
      },
      "outputs": [
        {
          "output_type": "stream",
          "name": "stdout",
          "text": [
            "[1] 5314.415\n"
          ]
        }
      ],
      "source": [
        "mu1 = mean1\n",
        "print(mu1)"
      ]
    },
    {
      "cell_type": "code",
      "execution_count": 67,
      "metadata": {
        "colab": {
          "base_uri": "https://localhost:8080/"
        },
        "id": "5ZytCHE8teUu",
        "outputId": "677e8f13-ddd0-432c-fd92-c5f043cf351c"
      },
      "outputs": [
        {
          "output_type": "stream",
          "name": "stdout",
          "text": [
            "[1] 3518.954\n"
          ]
        }
      ],
      "source": [
        "m2 = mean2\n",
        "print(m2)"
      ]
    },
    {
      "cell_type": "code",
      "execution_count": 69,
      "metadata": {
        "colab": {
          "base_uri": "https://localhost:8080/"
        },
        "id": "aRO69nGRtwGj",
        "outputId": "e18f9571-8bc8-44d0-d772-3b4f2ad4a50a"
      },
      "outputs": [
        {
          "output_type": "stream",
          "name": "stdout",
          "text": [
            "[1] 8.368462\n"
          ]
        }
      ],
      "source": [
        "m3 = mean3\n",
        "print(m3)"
      ]
    },
    {
      "cell_type": "code",
      "execution_count": 70,
      "metadata": {
        "colab": {
          "base_uri": "https://localhost:8080/"
        },
        "id": "Qo4gb8yVuHih",
        "outputId": "143e01b2-7ec8-4123-9f05-25ccb9ad0b35"
      },
      "outputs": [
        {
          "output_type": "stream",
          "name": "stdout",
          "text": [
            "[1] 11.99\n"
          ]
        }
      ],
      "source": [
        "m4 = mean4\n",
        "print(m4)"
      ]
    },
    {
      "cell_type": "code",
      "execution_count": 71,
      "metadata": {
        "colab": {
          "base_uri": "https://localhost:8080/"
        },
        "id": "3yjyMZLru8qE",
        "outputId": "05fd6108-4fe4-4608-f959-0144204887bf"
      },
      "outputs": [
        {
          "output_type": "stream",
          "name": "stdout",
          "text": [
            "[1] 15.61292\n"
          ]
        }
      ],
      "source": [
        "m5 = mean5\n",
        "print(m5)"
      ]
    },
    {
      "cell_type": "code",
      "execution_count": 72,
      "metadata": {
        "colab": {
          "base_uri": "https://localhost:8080/"
        },
        "id": "l7QWL3SSvZEl",
        "outputId": "5c5745ff-db02-4366-f9f1-132650ac7225"
      },
      "outputs": [
        {
          "output_type": "stream",
          "name": "stdout",
          "text": [
            "[1] 1795.462\n"
          ]
        }
      ],
      "source": [
        "m6 = mean6\n",
        "print(m6)"
      ]
    },
    {
      "cell_type": "code",
      "execution_count": 73,
      "metadata": {
        "colab": {
          "base_uri": "https://localhost:8080/"
        },
        "id": "G-TCnBp7Wv7-",
        "outputId": "8dc613e0-d796-4566-ddce-221fab1b09eb"
      },
      "outputs": [
        {
          "output_type": "stream",
          "name": "stdout",
          "text": [
            " [1] 4760 5640 4991 6797 4994 4991 4988 2274 7325 4992 6456 5445 5668 6167 4772\n",
            "[16] 4767 4989 4746 6387 5843 5713 5183 5475 3048 5952 4993 3937 5804 4528 4797\n",
            "[31] 4986 6362 5109 5303 5711 2310 7035 5736 5195 5105 4948 4639 5336 4989 4797\n",
            "[46] 4990 6303 4045 6450 6084 6884 5047 5376 4361 6239 6462 5229 6643 3887 4972\n",
            "[61] 6486 5506 6114 4558 5818\n"
          ]
        }
      ],
      "source": [
        "x1 = myData$Total.Library.Size\n",
        "print(x1)"
      ]
    },
    {
      "cell_type": "code",
      "execution_count": 74,
      "metadata": {
        "colab": {
          "base_uri": "https://localhost:8080/",
          "height": 184
        },
        "id": "QPzKjllK9Qe0",
        "outputId": "d9f93a8b-5ba0-4b48-c5bb-cf6765367100"
      },
      "outputs": [
        {
          "output_type": "display_data",
          "data": {
            "text/html": [
              "<dl>\n",
              "\t<dt>$stats</dt>\n",
              "\t\t<dd><style>\n",
              ".list-inline {list-style: none; margin:0; padding: 0}\n",
              ".list-inline>li {display: inline-block}\n",
              ".list-inline>li:not(:last-child)::after {content: \"\\00b7\"; padding: 0 .5ex}\n",
              "</style>\n",
              "<ol class=list-inline><li>3887</li><li>4948</li><li>5195</li><li>5952</li><li>7325</li></ol>\n",
              "</dd>\n",
              "\t<dt>$n</dt>\n",
              "\t\t<dd>65</dd>\n",
              "\t<dt>$conf</dt>\n",
              "\t\t<dd><style>\n",
              ".list-inline {list-style: none; margin:0; padding: 0}\n",
              ".list-inline>li {display: inline-block}\n",
              ".list-inline>li:not(:last-child)::after {content: \"\\00b7\"; padding: 0 .5ex}\n",
              "</style>\n",
              "<ol class=list-inline><li>4998.24121982645</li><li>5391.75878017355</li></ol>\n",
              "</dd>\n",
              "\t<dt>$out</dt>\n",
              "\t\t<dd><style>\n",
              ".list-inline {list-style: none; margin:0; padding: 0}\n",
              ".list-inline>li {display: inline-block}\n",
              ".list-inline>li:not(:last-child)::after {content: \"\\00b7\"; padding: 0 .5ex}\n",
              "</style>\n",
              "<ol class=list-inline><li>2274</li><li>3048</li><li>2310</li></ol>\n",
              "</dd>\n",
              "</dl>\n"
            ],
            "text/markdown": "$stats\n:   1. 3887\n2. 4948\n3. 5195\n4. 5952\n5. 7325\n\n\n\n$n\n:   65\n$conf\n:   1. 4998.24121982645\n2. 5391.75878017355\n\n\n\n$out\n:   1. 2274\n2. 3048\n3. 2310\n\n\n\n\n\n",
            "text/latex": "\\begin{description}\n\\item[\\$stats] \\begin{enumerate*}\n\\item 3887\n\\item 4948\n\\item 5195\n\\item 5952\n\\item 7325\n\\end{enumerate*}\n\n\\item[\\$n] 65\n\\item[\\$conf] \\begin{enumerate*}\n\\item 4998.24121982645\n\\item 5391.75878017355\n\\end{enumerate*}\n\n\\item[\\$out] \\begin{enumerate*}\n\\item 2274\n\\item 3048\n\\item 2310\n\\end{enumerate*}\n\n\\end{description}\n",
            "text/plain": [
              "$stats\n",
              "[1] 3887 4948 5195 5952 7325\n",
              "\n",
              "$n\n",
              "[1] 65\n",
              "\n",
              "$conf\n",
              "[1] 4998.241 5391.759\n",
              "\n",
              "$out\n",
              "[1] 2274 3048 2310\n"
            ]
          },
          "metadata": {}
        }
      ],
      "source": [
        "boxplot.stats(myData$Total.Library.Size)"
      ]
    },
    {
      "cell_type": "code",
      "execution_count": 75,
      "metadata": {
        "colab": {
          "base_uri": "https://localhost:8080/",
          "height": 437
        },
        "id": "8eesqyrP9gLJ",
        "outputId": "8ed6e8bd-8519-4fc4-bc36-7acd2ca6b516"
      },
      "outputs": [
        {
          "output_type": "display_data",
          "data": {
            "text/plain": [
              "plot without title"
            ],
            "image/png": "[encoded data removed]"
          },
          "metadata": {
            "image/png": {
              "width": 420,
              "height": 420
            }
          }
        }
      ],
      "source": [
        "boxplot(myData$Total.Library.Size)"
      ]
    },
    {
      "cell_type": "code",
      "execution_count": 76,
      "metadata": {
        "colab": {
          "base_uri": "https://localhost:8080/",
          "height": 437
        },
        "id": "RDOVDlQP9r4Z",
        "outputId": "a2a7fb4a-d772-462e-9c57-265717675902"
      },
      "outputs": [
        {
          "output_type": "display_data",
          "data": {
            "text/plain": [
              "plot without title"
            ],
            "image/png": "[encoded data removed]"
          },
          "metadata": {
            "image/png": {
              "width": 420,
              "height": 420
            }
          }
        }
      ],
      "source": [
        "barplot(myData$Total.Library.Size)"
      ]
    },
    {
      "cell_type": "code",
      "execution_count": 77,
      "metadata": {
        "colab": {
          "base_uri": "https://localhost:8080/"
        },
        "id": "YnCt9QGArR6l",
        "outputId": "df308301-54bd-41ee-d701-9dc8f41f5915"
      },
      "outputs": [
        {
          "output_type": "stream",
          "name": "stdout",
          "text": [
            " [1] 3154 3779 3155 4819 3156 3156 3152 1675 5234 3155 4486 3604 3814 4079 3344\n",
            "[16] 3154 3154 2883 4426 3718 3650 3545 3619 1712 3565 3158 2473 3806 2955 3155\n",
            "[31] 3155 4154 3512 3832 3624 1937 5055 3686 3334 3134 2977 2930 3261 3154 3154\n",
            "[46] 3374 4109 2638 4479 4003 4802 3419 3779 2973 4311 4490 3536 4551 2449 3162\n",
            "[61] 4515 3654 4050 2978 3826\n"
          ]
        }
      ],
      "source": [
        "x2 = myData$No..of.TV.Shows\n",
        "print(x2)"
      ]
    },
    {
      "cell_type": "code",
      "execution_count": null,
      "metadata": {
        "colab": {
          "base_uri": "https://localhost:8080/",
          "height": 437
        },
        "id": "xafLzYnM_gNS",
        "outputId": "86afa5f2-776f-4424-b450-faf9d3c037d4"
      },
      "outputs": [
        {
          "output_type": "display_data",
          "data": {
            "text/plain": [
              "plot without title"
            ],
            "image/png": "[encoded data removed]"
          },
          "metadata": {
            "image/png": {
              "width": 420,
              "height": 420
            }
          }
        }
      ],
      "source": [
        "boxplot(myData$No..of.TV.Shows)"
      ]
    },
    {
      "cell_type": "code",
      "execution_count": 78,
      "metadata": {
        "colab": {
          "base_uri": "https://localhost:8080/",
          "height": 184
        },
        "id": "BouDCgmH_oxz",
        "outputId": "e06a3024-2a71-4b71-e92f-960fe3647c77"
      },
      "outputs": [
        {
          "output_type": "display_data",
          "data": {
            "text/html": [
              "<dl>\n",
              "\t<dt>$stats</dt>\n",
              "\t\t<dd><style>\n",
              ".list-inline {list-style: none; margin:0; padding: 0}\n",
              ".list-inline>li {display: inline-block}\n",
              ".list-inline>li:not(:last-child)::after {content: \"\\00b7\"; padding: 0 .5ex}\n",
              "</style>\n",
              "<ol class=list-inline><li>2449</li><li>3154</li><li>3512</li><li>3832</li><li>4819</li></ol>\n",
              "</dd>\n",
              "\t<dt>$n</dt>\n",
              "\t\t<dd>65</dd>\n",
              "\t<dt>$conf</dt>\n",
              "\t\t<dd><style>\n",
              ".list-inline {list-style: none; margin:0; padding: 0}\n",
              ".list-inline>li {display: inline-block}\n",
              ".list-inline>li:not(:last-child)::after {content: \"\\00b7\"; padding: 0 .5ex}\n",
              "</style>\n",
              "<ol class=list-inline><li>3379.12903091866</li><li>3644.87096908134</li></ol>\n",
              "</dd>\n",
              "\t<dt>$out</dt>\n",
              "\t\t<dd><style>\n",
              ".list-inline {list-style: none; margin:0; padding: 0}\n",
              ".list-inline>li {display: inline-block}\n",
              ".list-inline>li:not(:last-child)::after {content: \"\\00b7\"; padding: 0 .5ex}\n",
              "</style>\n",
              "<ol class=list-inline><li>1675</li><li>5234</li><li>1712</li><li>1937</li><li>5055</li></ol>\n",
              "</dd>\n",
              "</dl>\n"
            ],
            "text/markdown": "$stats\n:   1. 2449\n2. 3154\n3. 3512\n4. 3832\n5. 4819\n\n\n\n$n\n:   65\n$conf\n:   1. 3379.12903091866\n2. 3644.87096908134\n\n\n\n$out\n:   1. 1675\n2. 5234\n3. 1712\n4. 1937\n5. 5055\n\n\n\n\n\n",
            "text/latex": "\\begin{description}\n\\item[\\$stats] \\begin{enumerate*}\n\\item 2449\n\\item 3154\n\\item 3512\n\\item 3832\n\\item 4819\n\\end{enumerate*}\n\n\\item[\\$n] 65\n\\item[\\$conf] \\begin{enumerate*}\n\\item 3379.12903091866\n\\item 3644.87096908134\n\\end{enumerate*}\n\n\\item[\\$out] \\begin{enumerate*}\n\\item 1675\n\\item 5234\n\\item 1712\n\\item 1937\n\\item 5055\n\\end{enumerate*}\n\n\\end{description}\n",
            "text/plain": [
              "$stats\n",
              "[1] 2449 3154 3512 3832 4819\n",
              "\n",
              "$n\n",
              "[1] 65\n",
              "\n",
              "$conf\n",
              "[1] 3379.129 3644.871\n",
              "\n",
              "$out\n",
              "[1] 1675 5234 1712 1937 5055\n"
            ]
          },
          "metadata": {}
        }
      ],
      "source": [
        "boxplot.stats(myData$No..of.TV.Shows)"
      ]
    },
    {
      "cell_type": "code",
      "execution_count": 79,
      "metadata": {
        "colab": {
          "base_uri": "https://localhost:8080/",
          "height": 437
        },
        "id": "LZhButy4_05i",
        "outputId": "581466d9-d405-4879-a35f-88078f8d3d7b"
      },
      "outputs": [
        {
          "output_type": "display_data",
          "data": {
            "text/plain": [
              "plot without title"
            ],
            "image/png": "[encoded data removed]"
          },
          "metadata": {
            "image/png": {
              "width": 420,
              "height": 420
            }
          }
        }
      ],
      "source": [
        "barplot(myData$No..of.TV.Shows)"
      ]
    },
    {
      "cell_type": "code",
      "execution_count": 80,
      "metadata": {
        "colab": {
          "base_uri": "https://localhost:8080/"
        },
        "id": "-0RMXkd8rZAA",
        "outputId": "f838be3e-9cc3-4a08-f6e4-802648834fdd"
      },
      "outputs": [
        {
          "output_type": "stream",
          "name": "stdout",
          "text": [
            " [1]  3.74  9.03  7.99  9.03  7.07  4.31  8.99  9.03  8.83  7.99  9.03 10.16\n",
            "[13]  9.03  9.03  9.03  7.99  7.99  8.08  9.03  2.64 10.56  9.03  8.73 12.88\n",
            "[25]  8.29  6.62  9.03  9.03  9.94  8.29  6.11  7.35  7.13  9.03  8.13  9.03\n",
            "[37]  9.03  6.26  8.07  9.74  8.34  1.97  5.64  8.99  7.99 10.16  9.51  9.03\n",
            "[49]  9.03  8.80  7.64  9.03  9.03 10.90  7.91  9.03  9.03  7.91  8.36  4.61\n",
            "[61]  9.03 12.88  7.84 12.00  8.99\n"
          ]
        }
      ],
      "source": [
        "x3 = myData$Cost.Per.Month...Basic....\n",
        "print(x3)"
      ]
    },
    {
      "cell_type": "code",
      "execution_count": 81,
      "metadata": {
        "colab": {
          "base_uri": "https://localhost:8080/",
          "height": 437
        },
        "id": "VRIw3eQ7_-re",
        "outputId": "38eb23dc-3459-4682-b128-337849b7b502"
      },
      "outputs": [
        {
          "output_type": "display_data",
          "data": {
            "text/plain": [
              "plot without title"
            ],
            "image/png": "[encoded data removed]"
          },
          "metadata": {
            "image/png": {
              "width": 420,
              "height": 420
            }
          }
        }
      ],
      "source": [
        "boxplot.default(myData$Cost.Per.Month...Basic....)"
      ]
    },
    {
      "cell_type": "code",
      "execution_count": 82,
      "metadata": {
        "colab": {
          "base_uri": "https://localhost:8080/",
          "height": 184
        },
        "id": "Zj7kp8--AE6t",
        "outputId": "c804f89f-f994-43a2-b428-f414d388b911"
      },
      "outputs": [
        {
          "output_type": "display_data",
          "data": {
            "text/html": [
              "<dl>\n",
              "\t<dt>$stats</dt>\n",
              "\t\t<dd><style>\n",
              ".list-inline {list-style: none; margin:0; padding: 0}\n",
              ".list-inline>li {display: inline-block}\n",
              ".list-inline>li:not(:last-child)::after {content: \"\\00b7\"; padding: 0 .5ex}\n",
              "</style>\n",
              "<ol class=list-inline><li>6.62</li><li>7.99</li><li>8.99</li><li>9.03</li><li>10.56</li></ol>\n",
              "</dd>\n",
              "\t<dt>$n</dt>\n",
              "\t\t<dd>65</dd>\n",
              "\t<dt>$conf</dt>\n",
              "\t\t<dd><style>\n",
              ".list-inline {list-style: none; margin:0; padding: 0}\n",
              ".list-inline>li {display: inline-block}\n",
              ".list-inline>li:not(:last-child)::after {content: \"\\00b7\"; padding: 0 .5ex}\n",
              "</style>\n",
              "<ol class=list-inline><li>8.78618612412301</li><li>9.19381387587699</li></ol>\n",
              "</dd>\n",
              "\t<dt>$out</dt>\n",
              "\t\t<dd><style>\n",
              ".list-inline {list-style: none; margin:0; padding: 0}\n",
              ".list-inline>li {display: inline-block}\n",
              ".list-inline>li:not(:last-child)::after {content: \"\\00b7\"; padding: 0 .5ex}\n",
              "</style>\n",
              "<ol class=list-inline><li>3.74</li><li>4.31</li><li>2.64</li><li>12.88</li><li>6.11</li><li>6.26</li><li>1.97</li><li>5.64</li><li>10.9</li><li>4.61</li><li>12.88</li><li>12</li></ol>\n",
              "</dd>\n",
              "</dl>\n"
            ],
            "text/markdown": "$stats\n:   1. 6.62\n2. 7.99\n3. 8.99\n4. 9.03\n5. 10.56\n\n\n\n$n\n:   65\n$conf\n:   1. 8.78618612412301\n2. 9.19381387587699\n\n\n\n$out\n:   1. 3.74\n2. 4.31\n3. 2.64\n4. 12.88\n5. 6.11\n6. 6.26\n7. 1.97\n8. 5.64\n9. 10.9\n10. 4.61\n11. 12.88\n12. 12\n\n\n\n\n\n",
            "text/latex": "\\begin{description}\n\\item[\\$stats] \\begin{enumerate*}\n\\item 6.62\n\\item 7.99\n\\item 8.99\n\\item 9.03\n\\item 10.56\n\\end{enumerate*}\n\n\\item[\\$n] 65\n\\item[\\$conf] \\begin{enumerate*}\n\\item 8.78618612412301\n\\item 9.19381387587699\n\\end{enumerate*}\n\n\\item[\\$out] \\begin{enumerate*}\n\\item 3.74\n\\item 4.31\n\\item 2.64\n\\item 12.88\n\\item 6.11\n\\item 6.26\n\\item 1.97\n\\item 5.64\n\\item 10.9\n\\item 4.61\n\\item 12.88\n\\item 12\n\\end{enumerate*}\n\n\\end{description}\n",
            "text/plain": [
              "$stats\n",
              "[1]  6.62  7.99  8.99  9.03 10.56\n",
              "\n",
              "$n\n",
              "[1] 65\n",
              "\n",
              "$conf\n",
              "[1] 8.786186 9.193814\n",
              "\n",
              "$out\n",
              " [1]  3.74  4.31  2.64 12.88  6.11  6.26  1.97  5.64 10.90  4.61 12.88 12.00\n"
            ]
          },
          "metadata": {}
        }
      ],
      "source": [
        "boxplot.stats(myData$Cost.Per.Month...Basic....)"
      ]
    },
    {
      "cell_type": "code",
      "execution_count": 83,
      "metadata": {
        "colab": {
          "base_uri": "https://localhost:8080/",
          "height": 437
        },
        "id": "1W-PYXWJAJXr",
        "outputId": "479c032f-88fe-4149-c72c-067bc255872c"
      },
      "outputs": [
        {
          "output_type": "display_data",
          "data": {
            "text/plain": [
              "plot without title"
            ],
            "image/png": "[encoded data removed]"
          },
          "metadata": {
            "image/png": {
              "width": 420,
              "height": 420
            }
          }
        }
      ],
      "source": [
        "barplot(myData$Cost.Per.Month...Basic....)"
      ]
    },
    {
      "cell_type": "code",
      "execution_count": 84,
      "metadata": {
        "colab": {
          "base_uri": "https://localhost:8080/"
        },
        "id": "VkhvgqlHrdL7",
        "outputId": "137c33c7-ab45-4dd2-8e8c-4325b1dfb5df"
      },
      "outputs": [
        {
          "output_type": "stream",
          "name": "stdout",
          "text": [
            " [1]  6.30 14.67 10.99 11.29  9.91  6.86 12.99 11.29 11.49 10.99 11.29 15.24\n",
            "[13] 14.67 14.67 12.42 10.99 10.99 10.00 14.67  6.61 15.05 14.67 13.13 20.46\n",
            "[25] 10.65 10.43 11.29 13.54 12.17 11.49  8.56  9.14 10.58 11.29 10.84 14.67\n",
            "[37] 11.29 10.05 11.47 11.90 10.43  3.00  8.46 12.99 10.99 15.24 12.81 13.54\n",
            "[49] 11.29 12.53 10.71 13.54 13.54 14.20 11.87 11.29 14.67 13.20 10.66  7.11\n",
            "[61] 14.67 20.46 12.12 15.04 13.99\n"
          ]
        }
      ],
      "source": [
        "x4 = myData$Cost.Per.Month...Standard....\n",
        "print(x4)"
      ]
    },
    {
      "cell_type": "code",
      "execution_count": 85,
      "metadata": {
        "colab": {
          "base_uri": "https://localhost:8080/",
          "height": 437
        },
        "id": "3NR6BC5mAO0E",
        "outputId": "01d20e29-a6f4-461f-9cfe-25686eeecc5f"
      },
      "outputs": [
        {
          "output_type": "display_data",
          "data": {
            "text/plain": [
              "plot without title"
            ],
            "image/png": "[encoded data removed]"
          },
          "metadata": {
            "image/png": {
              "width": 420,
              "height": 420
            }
          }
        }
      ],
      "source": [
        "boxplot(myData$Cost.Per.Month...Standard....)"
      ]
    },
    {
      "cell_type": "code",
      "execution_count": 86,
      "metadata": {
        "colab": {
          "base_uri": "https://localhost:8080/",
          "height": 184
        },
        "id": "14kkV60AAVzO",
        "outputId": "5679983e-dcc3-4bd7-bed3-63c1d8c3eac3"
      },
      "outputs": [
        {
          "output_type": "display_data",
          "data": {
            "text/html": [
              "<dl>\n",
              "\t<dt>$stats</dt>\n",
              "\t\t<dd><style>\n",
              ".list-inline {list-style: none; margin:0; padding: 0}\n",
              ".list-inline>li {display: inline-block}\n",
              ".list-inline>li:not(:last-child)::after {content: \"\\00b7\"; padding: 0 .5ex}\n",
              "</style>\n",
              "<ol class=list-inline><li>6.61</li><li>10.71</li><li>11.49</li><li>13.54</li><li>15.24</li></ol>\n",
              "</dd>\n",
              "\t<dt>$n</dt>\n",
              "\t\t<dd>65</dd>\n",
              "\t<dt>$conf</dt>\n",
              "\t\t<dd><style>\n",
              ".list-inline {list-style: none; margin:0; padding: 0}\n",
              ".list-inline>li {display: inline-block}\n",
              ".list-inline>li:not(:last-child)::after {content: \"\\00b7\"; padding: 0 .5ex}\n",
              "</style>\n",
              "<ol class=list-inline><li>10.9353910877578</li><li>12.0446089122422</li></ol>\n",
              "</dd>\n",
              "\t<dt>$out</dt>\n",
              "\t\t<dd><style>\n",
              ".list-inline {list-style: none; margin:0; padding: 0}\n",
              ".list-inline>li {display: inline-block}\n",
              ".list-inline>li:not(:last-child)::after {content: \"\\00b7\"; padding: 0 .5ex}\n",
              "</style>\n",
              "<ol class=list-inline><li>6.3</li><li>20.46</li><li>3</li><li>20.46</li></ol>\n",
              "</dd>\n",
              "</dl>\n"
            ],
            "text/markdown": "$stats\n:   1. 6.61\n2. 10.71\n3. 11.49\n4. 13.54\n5. 15.24\n\n\n\n$n\n:   65\n$conf\n:   1. 10.9353910877578\n2. 12.0446089122422\n\n\n\n$out\n:   1. 6.3\n2. 20.46\n3. 3\n4. 20.46\n\n\n\n\n\n",
            "text/latex": "\\begin{description}\n\\item[\\$stats] \\begin{enumerate*}\n\\item 6.61\n\\item 10.71\n\\item 11.49\n\\item 13.54\n\\item 15.24\n\\end{enumerate*}\n\n\\item[\\$n] 65\n\\item[\\$conf] \\begin{enumerate*}\n\\item 10.9353910877578\n\\item 12.0446089122422\n\\end{enumerate*}\n\n\\item[\\$out] \\begin{enumerate*}\n\\item 6.3\n\\item 20.46\n\\item 3\n\\item 20.46\n\\end{enumerate*}\n\n\\end{description}\n",
            "text/plain": [
              "$stats\n",
              "[1]  6.61 10.71 11.49 13.54 15.24\n",
              "\n",
              "$n\n",
              "[1] 65\n",
              "\n",
              "$conf\n",
              "[1] 10.93539 12.04461\n",
              "\n",
              "$out\n",
              "[1]  6.30 20.46  3.00 20.46\n"
            ]
          },
          "metadata": {}
        }
      ],
      "source": [
        "boxplot.stats(myData$Cost.Per.Month...Standard....)"
      ]
    },
    {
      "cell_type": "code",
      "execution_count": 87,
      "metadata": {
        "colab": {
          "base_uri": "https://localhost:8080/",
          "height": 437
        },
        "id": "9098SttsAYtO",
        "outputId": "9734411c-366a-4450-a47c-04c7be1dfeed"
      },
      "outputs": [
        {
          "output_type": "display_data",
          "data": {
            "text/plain": [
              "plot without title"
            ],
            "image/png": "[encoded data removed]"
          },
          "metadata": {
            "image/png": {
              "width": 420,
              "height": 420
            }
          }
        }
      ],
      "source": [
        "barplot(myData$Cost.Per.Month...Standard....)"
      ]
    },
    {
      "cell_type": "code",
      "execution_count": 89,
      "metadata": {
        "colab": {
          "base_uri": "https://localhost:8080/"
        },
        "id": "HVHRKFwUrfwO",
        "outputId": "60ecb5a3-49c1-41c5-9943-06169c45cc95"
      },
      "outputs": [
        {
          "output_type": "stream",
          "name": "stdout",
          "text": [
            " [1]  9.26 20.32 13.99 13.54 12.74  9.93 15.99 13.54 14.15 13.99 13.54 20.32\n",
            "[13] 20.32 20.32 15.80 13.99 13.99 11.93 20.32  8.60 19.54 20.32 17.45 26.96\n",
            "[25] 13.02 14.24 13.54 18.06 17.75 14.69 11.01 10.93 14.76 13.54 13.56 20.32\n",
            "[37] 13.54 12.58 14.45 14.07 12.52  4.02 11.29 15.99 13.99 20.32 16.11 18.06\n",
            "[49] 13.54 16.94 13.78 18.06 18.06 19.70 15.03 13.54 20.32 18.48 12.96  9.96\n",
            "[61] 20.32 26.96 16.39 19.60 17.99\n"
          ]
        }
      ],
      "source": [
        "x5 = myData$Cost.Per.Month...Premium....\n",
        "print(x5)"
      ]
    },
    {
      "cell_type": "code",
      "execution_count": 88,
      "metadata": {
        "colab": {
          "base_uri": "https://localhost:8080/",
          "height": 437
        },
        "id": "Lclfi5gqAet3",
        "outputId": "9fc108fd-ec30-4b68-da94-613c2f24d8b4"
      },
      "outputs": [
        {
          "output_type": "display_data",
          "data": {
            "text/plain": [
              "plot without title"
            ],
            "image/png": "[encoded data removed]"
          },
          "metadata": {
            "image/png": {
              "width": 420,
              "height": 420
            }
          }
        }
      ],
      "source": [
        "boxplot(myData$Cost.Per.Month...Premium....)"
      ]
    },
    {
      "cell_type": "code",
      "execution_count": 90,
      "metadata": {
        "colab": {
          "base_uri": "https://localhost:8080/",
          "height": 184
        },
        "id": "CfvOTPQpAhNd",
        "outputId": "00e57a8b-a0aa-4def-aefb-5ed98b7098ec"
      },
      "outputs": [
        {
          "output_type": "display_data",
          "data": {
            "text/html": [
              "<dl>\n",
              "\t<dt>$stats</dt>\n",
              "\t\t<dd><style>\n",
              ".list-inline {list-style: none; margin:0; padding: 0}\n",
              ".list-inline>li {display: inline-block}\n",
              ".list-inline>li:not(:last-child)::after {content: \"\\00b7\"; padding: 0 .5ex}\n",
              "</style>\n",
              "<ol class=list-inline><li>8.6</li><li>13.54</li><li>14.45</li><li>18.06</li><li>20.32</li></ol>\n",
              "</dd>\n",
              "\t<dt>$n</dt>\n",
              "\t\t<dd>65</dd>\n",
              "\t<dt>$conf</dt>\n",
              "\t\t<dd><style>\n",
              ".list-inline {list-style: none; margin:0; padding: 0}\n",
              ".list-inline>li {display: inline-block}\n",
              ".list-inline>li:not(:last-child)::after {content: \"\\00b7\"; padding: 0 .5ex}\n",
              "</style>\n",
              "<ol class=list-inline><li>13.5641935394577</li><li>15.3358064605423</li></ol>\n",
              "</dd>\n",
              "\t<dt>$out</dt>\n",
              "\t\t<dd><style>\n",
              ".list-inline {list-style: none; margin:0; padding: 0}\n",
              ".list-inline>li {display: inline-block}\n",
              ".list-inline>li:not(:last-child)::after {content: \"\\00b7\"; padding: 0 .5ex}\n",
              "</style>\n",
              "<ol class=list-inline><li>26.96</li><li>4.02</li><li>26.96</li></ol>\n",
              "</dd>\n",
              "</dl>\n"
            ],
            "text/markdown": "$stats\n:   1. 8.6\n2. 13.54\n3. 14.45\n4. 18.06\n5. 20.32\n\n\n\n$n\n:   65\n$conf\n:   1. 13.5641935394577\n2. 15.3358064605423\n\n\n\n$out\n:   1. 26.96\n2. 4.02\n3. 26.96\n\n\n\n\n\n",
            "text/latex": "\\begin{description}\n\\item[\\$stats] \\begin{enumerate*}\n\\item 8.6\n\\item 13.54\n\\item 14.45\n\\item 18.06\n\\item 20.32\n\\end{enumerate*}\n\n\\item[\\$n] 65\n\\item[\\$conf] \\begin{enumerate*}\n\\item 13.5641935394577\n\\item 15.3358064605423\n\\end{enumerate*}\n\n\\item[\\$out] \\begin{enumerate*}\n\\item 26.96\n\\item 4.02\n\\item 26.96\n\\end{enumerate*}\n\n\\end{description}\n",
            "text/plain": [
              "$stats\n",
              "[1]  8.60 13.54 14.45 18.06 20.32\n",
              "\n",
              "$n\n",
              "[1] 65\n",
              "\n",
              "$conf\n",
              "[1] 13.56419 15.33581\n",
              "\n",
              "$out\n",
              "[1] 26.96  4.02 26.96\n"
            ]
          },
          "metadata": {}
        }
      ],
      "source": [
        "boxplot.stats(myData$Cost.Per.Month...Premium....)"
      ]
    },
    {
      "cell_type": "code",
      "execution_count": 91,
      "metadata": {
        "colab": {
          "base_uri": "https://localhost:8080/",
          "height": 437
        },
        "id": "PIWfrMcJAjUd",
        "outputId": "814dc492-c0cf-40e5-e028-0be7463729e9"
      },
      "outputs": [
        {
          "output_type": "display_data",
          "data": {
            "text/plain": [
              "plot without title"
            ],
            "image/png": "[encoded data removed]"
          },
          "metadata": {
            "image/png": {
              "width": 420,
              "height": 420
            }
          }
        }
      ],
      "source": [
        "barplot(myData$Cost.Per.Month...Premium....)"
      ]
    },
    {
      "cell_type": "code",
      "execution_count": 92,
      "metadata": {
        "colab": {
          "base_uri": "https://localhost:8080/"
        },
        "id": "IT-GGS-BrcJ6",
        "outputId": "1acdceb9-8b9f-4645-ceb9-1fa9bc089c13"
      },
      "outputs": [
        {
          "output_type": "stream",
          "name": "stdout",
          "text": [
            " [1] 1606 1861 1836 1978 1838 1835 1836  599 2091 1837 1970 1841 1854 2088 1428\n",
            "[16] 1613 1835 1863 1961 2125 2063 1638 1856 1336 2387 1835 1464 1998 1573 1642\n",
            "[31] 1831 2208 1597 1471 2087  373 1980 2050 1861 1971 1971 1709 2075 1835 1643\n",
            "[46] 1616 2194 1407 1971 2081 2082 1628 1597 1388 1928 1972 1693 2092 1438 1810\n",
            "[61] 1971 1852 2064 1580 1992\n"
          ]
        }
      ],
      "source": [
        "x6 = myData$No..of.Movies\n",
        "print(x6)"
      ]
    },
    {
      "cell_type": "code",
      "execution_count": 93,
      "metadata": {
        "colab": {
          "base_uri": "https://localhost:8080/",
          "height": 437
        },
        "id": "G4YTbChuAomY",
        "outputId": "9a8b6673-2330-4631-bd6c-9e6039aa4c9d"
      },
      "outputs": [
        {
          "output_type": "display_data",
          "data": {
            "text/plain": [
              "plot without title"
            ],
            "image/png": "[encoded data removed]"
          },
          "metadata": {
            "image/png": {
              "width": 420,
              "height": 420
            }
          }
        }
      ],
      "source": [
        "boxplot(myData$No..of.Movies)"
      ]
    },
    {
      "cell_type": "code",
      "execution_count": 94,
      "metadata": {
        "colab": {
          "base_uri": "https://localhost:8080/",
          "height": 184
        },
        "id": "XO74Ne8hAtlZ",
        "outputId": "bba1fae8-0ed8-4233-f4af-fbd47980e883"
      },
      "outputs": [
        {
          "output_type": "display_data",
          "data": {
            "text/html": [
              "<dl>\n",
              "\t<dt>$stats</dt>\n",
              "\t\t<dd><style>\n",
              ".list-inline {list-style: none; margin:0; padding: 0}\n",
              ".list-inline>li {display: inline-block}\n",
              ".list-inline>li:not(:last-child)::after {content: \"\\00b7\"; padding: 0 .5ex}\n",
              "</style>\n",
              "<ol class=list-inline><li>1336</li><li>1628</li><li>1841</li><li>1980</li><li>2387</li></ol>\n",
              "</dd>\n",
              "\t<dt>$n</dt>\n",
              "\t\t<dd>65</dd>\n",
              "\t<dt>$conf</dt>\n",
              "\t\t<dd><style>\n",
              ".list-inline {list-style: none; margin:0; padding: 0}\n",
              ".list-inline>li {display: inline-block}\n",
              ".list-inline>li:not(:last-child)::after {content: \"\\00b7\"; padding: 0 .5ex}\n",
              "</style>\n",
              "<ol class=list-inline><li>1772.01684201087</li><li>1909.98315798913</li></ol>\n",
              "</dd>\n",
              "\t<dt>$out</dt>\n",
              "\t\t<dd><style>\n",
              ".list-inline {list-style: none; margin:0; padding: 0}\n",
              ".list-inline>li {display: inline-block}\n",
              ".list-inline>li:not(:last-child)::after {content: \"\\00b7\"; padding: 0 .5ex}\n",
              "</style>\n",
              "<ol class=list-inline><li>599</li><li>373</li></ol>\n",
              "</dd>\n",
              "</dl>\n"
            ],
            "text/markdown": "$stats\n:   1. 1336\n2. 1628\n3. 1841\n4. 1980\n5. 2387\n\n\n\n$n\n:   65\n$conf\n:   1. 1772.01684201087\n2. 1909.98315798913\n\n\n\n$out\n:   1. 599\n2. 373\n\n\n\n\n\n",
            "text/latex": "\\begin{description}\n\\item[\\$stats] \\begin{enumerate*}\n\\item 1336\n\\item 1628\n\\item 1841\n\\item 1980\n\\item 2387\n\\end{enumerate*}\n\n\\item[\\$n] 65\n\\item[\\$conf] \\begin{enumerate*}\n\\item 1772.01684201087\n\\item 1909.98315798913\n\\end{enumerate*}\n\n\\item[\\$out] \\begin{enumerate*}\n\\item 599\n\\item 373\n\\end{enumerate*}\n\n\\end{description}\n",
            "text/plain": [
              "$stats\n",
              "[1] 1336 1628 1841 1980 2387\n",
              "\n",
              "$n\n",
              "[1] 65\n",
              "\n",
              "$conf\n",
              "[1] 1772.017 1909.983\n",
              "\n",
              "$out\n",
              "[1] 599 373\n"
            ]
          },
          "metadata": {}
        }
      ],
      "source": [
        "boxplot.stats(myData$No..of.Movies)"
      ]
    },
    {
      "cell_type": "code",
      "execution_count": 95,
      "metadata": {
        "colab": {
          "base_uri": "https://localhost:8080/",
          "height": 437
        },
        "id": "DMfJI-jKAweT",
        "outputId": "0ae176a9-283e-4698-d5f1-63f0649417b7"
      },
      "outputs": [
        {
          "output_type": "display_data",
          "data": {
            "text/plain": [
              "plot without title"
            ],
            "image/png": "[encoded data removed]"
          },
          "metadata": {
            "image/png": {
              "width": 420,
              "height": 420
            }
          }
        }
      ],
      "source": [
        "barplot(myData$No..of.Movies)"
      ]
    },
    {
      "cell_type": "code",
      "execution_count": 96,
      "metadata": {
        "colab": {
          "base_uri": "https://localhost:8080/"
        },
        "id": "TcvfHCfOP-Gm",
        "outputId": "90972b18-dbd8-41e7-ce2a-95b7c67f0612"
      },
      "outputs": [
        {
          "output_type": "stream",
          "name": "stdout",
          "text": [
            "\n",
            "\tOne Sample t-test\n",
            "\n",
            "data:  myData$Total.Library.Size\n",
            "t = 3.1631e-06, df = 64, p-value = 1\n",
            "alternative hypothesis: true mean is not equal to 5314.415\n",
            "95 percent confidence interval:\n",
            " 5071.503 5557.327\n",
            "sample estimates:\n",
            "mean of x \n",
            " 5314.415 \n",
            "\n"
          ]
        }
      ],
      "source": [
        "# One Sample T-Test\n",
        "# two.sided test (by default)\n",
        "t1 = t.test(myData$Total.Library.Size, mu=5314.415, conf.level = 0.95)\n",
        "print(t1)"
      ]
    },
    {
      "cell_type": "code",
      "execution_count": 97,
      "metadata": {
        "colab": {
          "base_uri": "https://localhost:8080/"
        },
        "id": "BgzJB95pqjtI",
        "outputId": "53e73b63-c6d1-41b4-da08-71457efbb60b"
      },
      "outputs": [
        {
          "output_type": "stream",
          "name": "stdout",
          "text": [
            "\n",
            "\tOne Sample t-test\n",
            "\n",
            "data:  x2\n",
            "t = -1.7155e-06, df = 64, p-value = 1\n",
            "alternative hypothesis: true mean is not equal to 3518.954\n",
            "95 percent confidence interval:\n",
            " 3339.801 3698.107\n",
            "sample estimates:\n",
            "mean of x \n",
            " 3518.954 \n",
            "\n"
          ]
        }
      ],
      "source": [
        "# two.sided test (by default)\n",
        "t2 = t.test(x2, mu = 3518.954)\n",
        "print(t2)"
      ]
    },
    {
      "cell_type": "code",
      "execution_count": 98,
      "metadata": {
        "colab": {
          "base_uri": "https://localhost:8080/"
        },
        "id": "dZ9UhPFsrNSI",
        "outputId": "a221d527-aecc-4772-8988-67ff5517f8a4"
      },
      "outputs": [
        {
          "output_type": "stream",
          "name": "stdout",
          "text": [
            "\n",
            "\tOne Sample t-test\n",
            "\n",
            "data:  x3\n",
            "t = -1.9202e-06, df = 64, p-value = 1\n",
            "alternative hypothesis: true mean is not equal to 8.368462\n",
            "95 percent confidence interval:\n",
            " 7.888294 8.848630\n",
            "sample estimates:\n",
            "mean of x \n",
            " 8.368462 \n",
            "\n"
          ]
        }
      ],
      "source": [
        "# two.sided test (by default)\n",
        "t3 = t.test(x3, mu = 8.368462)\n",
        "print(t3)"
      ]
    },
    {
      "cell_type": "code",
      "execution_count": 99,
      "metadata": {
        "colab": {
          "base_uri": "https://localhost:8080/"
        },
        "id": "OeaVXR-JrN8Y",
        "outputId": "0b114383-83f0-42f9-e0b3-771ba39911bf"
      },
      "outputs": [
        {
          "output_type": "stream",
          "name": "stdout",
          "text": [
            "\n",
            "\tOne Sample t-test\n",
            "\n",
            "data:  x4\n",
            "t = 0, df = 64, p-value = 1\n",
            "alternative hypothesis: true mean is not equal to 11.99\n",
            "95 percent confidence interval:\n",
            " 11.28034 12.69966\n",
            "sample estimates:\n",
            "mean of x \n",
            "    11.99 \n",
            "\n"
          ]
        }
      ],
      "source": [
        "# two.sided test (by default)\n",
        "t4 = t.test(x4, mu = 11.99)\n",
        "print(t4)"
      ]
    },
    {
      "cell_type": "code",
      "execution_count": 100,
      "metadata": {
        "colab": {
          "base_uri": "https://localhost:8080/"
        },
        "id": "MvJo-TKJrPQw",
        "outputId": "f02962fd-8c6d-4596-b2bf-bce732d9b093"
      },
      "outputs": [
        {
          "output_type": "stream",
          "name": "stdout",
          "text": [
            "\n",
            "\tOne Sample t-test\n",
            "\n",
            "data:  x5\n",
            "t = 6.1393e-06, df = 64, p-value = 1\n",
            "alternative hypothesis: true mean is not equal to 15.61292\n",
            "95 percent confidence interval:\n",
            " 14.61169 16.61415\n",
            "sample estimates:\n",
            "mean of x \n",
            " 15.61292 \n",
            "\n"
          ]
        }
      ],
      "source": [
        "# two.sided test (by default)\n",
        "t5 = t.test(x5, mu = 15.61292)\n",
        "print(t5)"
      ]
    },
    {
      "cell_type": "code",
      "execution_count": 101,
      "metadata": {
        "colab": {
          "base_uri": "https://localhost:8080/"
        },
        "id": "rgCFggvGrQFN",
        "outputId": "e3af2c75-dd3f-4e0b-fcc1-d7ef636ab303"
      },
      "outputs": [
        {
          "output_type": "stream",
          "name": "stdout",
          "text": [
            "\n",
            "\tOne Sample t-test\n",
            "\n",
            "data:  x6\n",
            "t = -1.137e-05, df = 64, p-value = 1\n",
            "alternative hypothesis: true mean is not equal to 1795.462\n",
            "95 percent confidence interval:\n",
            " 1714.366 1876.557\n",
            "sample estimates:\n",
            "mean of x \n",
            " 1795.462 \n",
            "\n"
          ]
        }
      ],
      "source": [
        "# two.sided test (by default)\n",
        "t6 = t.test(x6, mu = 1795.462)\n",
        "print(t6)"
      ]
    },
    {
      "cell_type": "markdown",
      "metadata": {
        "id": "ns4cWS7-Dqox"
      },
      "source": [
        "# Defining sample vector\n",
        "x <- rnorm(100)\n",
        "y <- rnorm(100)\n",
        "  \n",
        "# Two.Sample T-Test\n",
        "t.test(x, y)"
      ]
    },
    {
      "cell_type": "code",
      "execution_count": 102,
      "metadata": {
        "colab": {
          "base_uri": "https://localhost:8080/",
          "height": 437
        },
        "id": "AVSmuwZxRvND",
        "outputId": "c161a4b3-41bd-4aa0-e428-c29c49ac79f3"
      },
      "outputs": [
        {
          "output_type": "display_data",
          "data": {
            "text/plain": [
              "plot without title"
            ],
            "image/png": "[encoded data removed]"
          },
          "metadata": {
            "image/png": {
              "width": 420,
              "height": 420
            }
          }
        }
      ],
      "source": [
        "boxplot(myData$Total.Library.Size ~ myData$Cost.Per.Month...Basic....)"
      ]
    },
    {
      "cell_type": "code",
      "execution_count": 103,
      "metadata": {
        "colab": {
          "base_uri": "https://localhost:8080/",
          "height": 437
        },
        "id": "1ebfSrKfqhfC",
        "outputId": "187dba6a-0f0b-4768-d78e-ea63193c18ae"
      },
      "outputs": [
        {
          "output_type": "display_data",
          "data": {
            "text/plain": [
              "plot without title"
            ],
            "image/png": "[encoded data removed]"
          },
          "metadata": {
            "image/png": {
              "width": 420,
              "height": 420
            }
          }
        }
      ],
      "source": [
        "boxplot(myData$Total.Library.Size ~ myData$Cost.Per.Month...Standard....)"
      ]
    },
    {
      "cell_type": "code",
      "execution_count": 104,
      "metadata": {
        "colab": {
          "base_uri": "https://localhost:8080/",
          "height": 437
        },
        "id": "EOQuGx99Eic_",
        "outputId": "a5f21fca-e968-4ad5-d370-0a5eded530eb"
      },
      "outputs": [
        {
          "output_type": "display_data",
          "data": {
            "text/plain": [
              "plot without title"
            ],
            "image/png": "[encoded data removed]"
          },
          "metadata": {
            "image/png": {
              "width": 420,
              "height": 420
            }
          }
        }
      ],
      "source": [
        "boxplot(myData$Total.Library.Size ~ myData$Cost.Per.Month...Premium....)"
      ]
    },
    {
      "cell_type": "code",
      "execution_count": 105,
      "metadata": {
        "colab": {
          "base_uri": "https://localhost:8080/",
          "height": 208
        },
        "id": "Jg3Iq0KiT6B8",
        "outputId": "1cd19227-b164-48a4-f5cf-901fb397fb66"
      },
      "outputs": [
        {
          "output_type": "display_data",
          "data": {
            "text/plain": [
              "\n",
              "\tWelch Two Sample t-test\n",
              "\n",
              "data:  x1 and x3\n",
              "t = 43.637, df = 64.001, p-value < 2.2e-16\n",
              "alternative hypothesis: true difference in means is not equal to 0\n",
              "95 percent confidence interval:\n",
              " 5063.134 5548.959\n",
              "sample estimates:\n",
              "  mean of x   mean of y \n",
              "5314.415385    8.368462 \n"
            ]
          },
          "metadata": {}
        }
      ],
      "source": [
        "t.test(x1,x3)"
      ]
    },
    {
      "cell_type": "code",
      "execution_count": 106,
      "metadata": {
        "colab": {
          "base_uri": "https://localhost:8080/"
        },
        "id": "92vBq53jUhPG",
        "outputId": "b3164c19-1306-46cd-feeb-601f3510537e"
      },
      "outputs": [
        {
          "output_type": "stream",
          "name": "stdout",
          "text": [
            "\n",
            "\tWelch Two Sample t-test\n",
            "\n",
            "data:  x1 and x4\n",
            "t = 43.607, df = 64.001, p-value < 2.2e-16\n",
            "alternative hypothesis: true difference in means is not equal to 0\n",
            "95 percent confidence interval:\n",
            " 5059.512 5545.338\n",
            "sample estimates:\n",
            "mean of x mean of y \n",
            " 5314.415    11.990 \n",
            "\n"
          ]
        }
      ],
      "source": [
        "T1_4 = t.test(x1,x4)\n",
        "print(T1_4)"
      ]
    },
    {
      "cell_type": "code",
      "execution_count": 107,
      "metadata": {
        "colab": {
          "base_uri": "https://localhost:8080/"
        },
        "id": "JwlnZjXIeq1P",
        "outputId": "b85a2485-25bb-457f-a173-bc691b5b06a7"
      },
      "outputs": [
        {
          "output_type": "stream",
          "name": "stdout",
          "text": [
            "\n",
            "\tWelch Two Sample t-test\n",
            "\n",
            "data:  x1 and x5\n",
            "t = 43.577, df = 64.002, p-value < 2.2e-16\n",
            "alternative hypothesis: true difference in means is not equal to 0\n",
            "95 percent confidence interval:\n",
            " 5055.889 5541.716\n",
            "sample estimates:\n",
            " mean of x  mean of y \n",
            "5314.41538   15.61292 \n",
            "\n"
          ]
        }
      ],
      "source": [
        "T1_5 = t.test(x1,x5)\n",
        "print(T1_5)"
      ]
    },
    {
      "cell_type": "code",
      "execution_count": 108,
      "metadata": {
        "colab": {
          "base_uri": "https://localhost:8080/"
        },
        "id": "yB32WVpvevJj",
        "outputId": "dc6a0345-2403-47b4-a9f1-ae135114a131"
      },
      "outputs": [
        {
          "output_type": "stream",
          "name": "stdout",
          "text": [
            "\n",
            "\tWelch Two Sample t-test\n",
            "\n",
            "data:  x2 and x3\n",
            "t = 39.146, df = 64.001, p-value < 2.2e-16\n",
            "alternative hypothesis: true difference in means is not equal to 0\n",
            "95 percent confidence interval:\n",
            " 3331.432 3689.739\n",
            "sample estimates:\n",
            "  mean of x   mean of y \n",
            "3518.953846    8.368462 \n",
            "\n"
          ]
        }
      ],
      "source": [
        "T2_3 = t.test(x2,x3)\n",
        "print(T2_3)"
      ]
    },
    {
      "cell_type": "code",
      "execution_count": 109,
      "metadata": {
        "colab": {
          "base_uri": "https://localhost:8080/"
        },
        "id": "q6avwK8Ve53a",
        "outputId": "1e9d7573-1713-4147-98a5-08687cda64a8"
      },
      "outputs": [
        {
          "output_type": "stream",
          "name": "stdout",
          "text": [
            "\n",
            "\tWelch Two Sample t-test\n",
            "\n",
            "data:  x2 and x4\n",
            "t = 39.106, df = 64.002, p-value < 2.2e-16\n",
            "alternative hypothesis: true difference in means is not equal to 0\n",
            "95 percent confidence interval:\n",
            " 3327.809 3686.118\n",
            "sample estimates:\n",
            "mean of x mean of y \n",
            " 3518.954    11.990 \n",
            "\n"
          ]
        }
      ],
      "source": [
        "T2_4 = t.test(x2,x4)\n",
        "print(T2_4)"
      ]
    },
    {
      "cell_type": "code",
      "execution_count": 110,
      "metadata": {
        "colab": {
          "base_uri": "https://localhost:8080/"
        },
        "id": "PrvbNrpDe-TL",
        "outputId": "38459293-5438-4a15-c02b-11a142a84d6f"
      },
      "outputs": [
        {
          "output_type": "stream",
          "name": "stdout",
          "text": [
            "\n",
            "\tWelch Two Sample t-test\n",
            "\n",
            "data:  x2 and x5\n",
            "t = 39.065, df = 64.004, p-value < 2.2e-16\n",
            "alternative hypothesis: true difference in means is not equal to 0\n",
            "95 percent confidence interval:\n",
            " 3324.185 3682.497\n",
            "sample estimates:\n",
            " mean of x  mean of y \n",
            "3518.95385   15.61292 \n",
            "\n"
          ]
        }
      ],
      "source": [
        "T2_5 = t.test(x2,x5)\n",
        "print(T2_5)"
      ]
    },
    {
      "cell_type": "code",
      "execution_count": 111,
      "metadata": {
        "colab": {
          "base_uri": "https://localhost:8080/"
        },
        "id": "8q3EXWtRfBuY",
        "outputId": "fd375292-cfba-41c0-ed0c-45ca41cf8686"
      },
      "outputs": [
        {
          "output_type": "stream",
          "name": "stdout",
          "text": [
            "\n",
            "\tWelch Two Sample t-test\n",
            "\n",
            "data:  x6 and x3\n",
            "t = 44.023, df = 64.004, p-value < 2.2e-16\n",
            "alternative hypothesis: true difference in means is not equal to 0\n",
            "95 percent confidence interval:\n",
            " 1705.996 1868.190\n",
            "sample estimates:\n",
            "  mean of x   mean of y \n",
            "1795.461538    8.368462 \n",
            "\n"
          ]
        }
      ],
      "source": [
        "T6_3 = t.test(x6,x3)\n",
        "print(T6_3)"
      ]
    },
    {
      "cell_type": "code",
      "execution_count": 112,
      "metadata": {
        "colab": {
          "base_uri": "https://localhost:8080/"
        },
        "id": "prMD-6HlfFhX",
        "outputId": "92a0da32-c146-4ac7-9f37-8a1cdf0b9ace"
      },
      "outputs": [
        {
          "output_type": "stream",
          "name": "stdout",
          "text": [
            "\n",
            "\tWelch Two Sample t-test\n",
            "\n",
            "data:  x6 and x4\n",
            "t = 43.933, df = 64.01, p-value < 2.2e-16\n",
            "alternative hypothesis: true difference in means is not equal to 0\n",
            "95 percent confidence interval:\n",
            " 1702.373 1864.570\n",
            "sample estimates:\n",
            "mean of x mean of y \n",
            " 1795.462    11.990 \n",
            "\n"
          ]
        }
      ],
      "source": [
        "T6_4 = t.test(x6,x4)\n",
        "print(T6_4)"
      ]
    },
    {
      "cell_type": "code",
      "execution_count": 113,
      "metadata": {
        "colab": {
          "base_uri": "https://localhost:8080/"
        },
        "id": "lLQRw9_efH7a",
        "outputId": "2ff6f6e9-e7fc-445d-8f14-c44b3d3e4457"
      },
      "outputs": [
        {
          "output_type": "stream",
          "name": "stdout",
          "text": [
            "\n",
            "\tWelch Two Sample t-test\n",
            "\n",
            "data:  x6 and x5\n",
            "t = 43.842, df = 64.02, p-value < 2.2e-16\n",
            "alternative hypothesis: true difference in means is not equal to 0\n",
            "95 percent confidence interval:\n",
            " 1698.747 1860.950\n",
            "sample estimates:\n",
            " mean of x  mean of y \n",
            "1795.46154   15.61292 \n",
            "\n"
          ]
        }
      ],
      "source": [
        "T6_5 = t.test(x6,x5)\n",
        "print(T6_5)"
      ]
    },
    {
      "cell_type": "code",
      "execution_count": 114,
      "metadata": {
        "colab": {
          "base_uri": "https://localhost:8080/",
          "height": 208
        },
        "id": "Ya31vMUa2IpG",
        "outputId": "508d23db-9d84-48e4-a3c2-df95075607b0"
      },
      "outputs": [
        {
          "output_type": "display_data",
          "data": {
            "text/plain": [
              "\n",
              "\tPearson's product-moment correlation\n",
              "\n",
              "data:  x1 and x3\n",
              "t = -0.50006, df = 63, p-value = 0.6188\n",
              "alternative hypothesis: true correlation is not equal to 0\n",
              "95 percent confidence interval:\n",
              " -0.3021424  0.1838416\n",
              "sample estimates:\n",
              "        cor \n",
              "-0.06287686 \n"
            ]
          },
          "metadata": {}
        }
      ],
      "source": [
        "cor.test(x1,x3)"
      ]
    },
    {
      "cell_type": "code",
      "execution_count": 115,
      "metadata": {
        "colab": {
          "base_uri": "https://localhost:8080/",
          "height": 208
        },
        "id": "pIuXl3Ad3F38",
        "outputId": "75859593-ce2d-474c-db2c-2b7030252be1"
      },
      "outputs": [
        {
          "output_type": "display_data",
          "data": {
            "text/plain": [
              "\n",
              "\tPearson's product-moment correlation\n",
              "\n",
              "data:  x1 and x4\n",
              "t = -0.4388, df = 63, p-value = 0.6623\n",
              "alternative hypothesis: true correlation is not equal to 0\n",
              "95 percent confidence interval:\n",
              " -0.2951257  0.1912744\n",
              "sample estimates:\n",
              "        cor \n",
              "-0.05519988 \n"
            ]
          },
          "metadata": {}
        }
      ],
      "source": [
        "cor.test(x1,x4)"
      ]
    },
    {
      "cell_type": "code",
      "execution_count": 116,
      "metadata": {
        "colab": {
          "base_uri": "https://localhost:8080/",
          "height": 208
        },
        "id": "ri90T6fx3NZK",
        "outputId": "f89d96d9-c93a-4983-e435-4a308cfe8a5f"
      },
      "outputs": [
        {
          "output_type": "display_data",
          "data": {
            "text/plain": [
              "\n",
              "\tPearson's product-moment correlation\n",
              "\n",
              "data:  x1 and x5\n",
              "t = -0.56914, df = 63, p-value = 0.5713\n",
              "alternative hypothesis: true correlation is not equal to 0\n",
              "95 percent confidence interval:\n",
              " -0.3100123  0.1754384\n",
              "sample estimates:\n",
              "        cor \n",
              "-0.07152106 \n"
            ]
          },
          "metadata": {}
        }
      ],
      "source": [
        "cor.test(x1,x5)"
      ]
    },
    {
      "cell_type": "code",
      "execution_count": 117,
      "metadata": {
        "colab": {
          "base_uri": "https://localhost:8080/",
          "height": 208
        },
        "id": "JfU0WAN53S4w",
        "outputId": "8dc0ad63-c9c2-4ee7-c833-57934e5d245e"
      },
      "outputs": [
        {
          "output_type": "display_data",
          "data": {
            "text/plain": [
              "\n",
              "\tPearson's product-moment correlation\n",
              "\n",
              "data:  x2 and x3\n",
              "t = -0.030273, df = 63, p-value = 0.9759\n",
              "alternative hypothesis: true correlation is not equal to 0\n",
              "95 percent confidence interval:\n",
              " -0.2474829  0.2403086\n",
              "sample estimates:\n",
              "         cor \n",
              "-0.003814007 \n"
            ]
          },
          "metadata": {}
        }
      ],
      "source": [
        "cor.test(x2,x3)"
      ]
    },
    {
      "cell_type": "code",
      "execution_count": 118,
      "metadata": {
        "colab": {
          "base_uri": "https://localhost:8080/",
          "height": 208
        },
        "id": "a9vGkvfC3goC",
        "outputId": "73534cda-023f-4ca3-ac1f-411f9a4ff6aa"
      },
      "outputs": [
        {
          "output_type": "display_data",
          "data": {
            "text/plain": [
              "\n",
              "\tPearson's product-moment correlation\n",
              "\n",
              "data:  x2 and x4\n",
              "t = 0.018136, df = 63, p-value = 0.9856\n",
              "alternative hypothesis: true correlation is not equal to 0\n",
              "95 percent confidence interval:\n",
              " -0.2417490  0.2460469\n",
              "sample estimates:\n",
              "       cor \n",
              "0.00228487 \n"
            ]
          },
          "metadata": {}
        }
      ],
      "source": [
        "cor.test(x2,x4)"
      ]
    },
    {
      "cell_type": "code",
      "execution_count": 119,
      "metadata": {
        "colab": {
          "base_uri": "https://localhost:8080/",
          "height": 208
        },
        "id": "sfuyIy8N3lRo",
        "outputId": "fd297a23-0ab3-463b-94fa-3b3ce172ec10"
      },
      "outputs": [
        {
          "output_type": "display_data",
          "data": {
            "text/plain": [
              "\n",
              "\tPearson's product-moment correlation\n",
              "\n",
              "data:  x2 and x5\n",
              "t = -0.088107, df = 63, p-value = 0.9301\n",
              "alternative hypothesis: true correlation is not equal to 0\n",
              "95 percent confidence interval:\n",
              " -0.2543104  0.2334313\n",
              "sample estimates:\n",
              "        cor \n",
              "-0.01109981 \n"
            ]
          },
          "metadata": {}
        }
      ],
      "source": [
        "cor.test(x2,x5)"
      ]
    },
    {
      "cell_type": "code",
      "execution_count": 120,
      "metadata": {
        "colab": {
          "base_uri": "https://localhost:8080/",
          "height": 208
        },
        "id": "3al4FLVH3pHa",
        "outputId": "99c931bc-5cfe-413e-c141-994816e5d9b3"
      },
      "outputs": [
        {
          "output_type": "display_data",
          "data": {
            "text/plain": [
              "\n",
              "\tPearson's product-moment correlation\n",
              "\n",
              "data:  x6 and x3\n",
              "t = -1.4517, df = 63, p-value = 0.1515\n",
              "alternative hypothesis: true correlation is not equal to 0\n",
              "95 percent confidence interval:\n",
              " -0.40599714  0.06692223\n",
              "sample estimates:\n",
              "       cor \n",
              "-0.1799135 \n"
            ]
          },
          "metadata": {}
        }
      ],
      "source": [
        "cor.test(x6,x3)"
      ]
    },
    {
      "cell_type": "code",
      "execution_count": 121,
      "metadata": {
        "colab": {
          "base_uri": "https://localhost:8080/",
          "height": 208
        },
        "id": "9Vh8Rkpy32jQ",
        "outputId": "3ad653cc-3221-4a19-e785-81e50c2e04b7"
      },
      "outputs": [
        {
          "output_type": "display_data",
          "data": {
            "text/plain": [
              "\n",
              "\tPearson's product-moment correlation\n",
              "\n",
              "data:  x6 and x4\n",
              "t = -1.3725, df = 63, p-value = 0.1748\n",
              "alternative hypothesis: true correlation is not equal to 0\n",
              "95 percent confidence interval:\n",
              " -0.39776032  0.07669496\n",
              "sample estimates:\n",
              "       cor \n",
              "-0.1703915 \n"
            ]
          },
          "metadata": {}
        }
      ],
      "source": [
        "cor.test(x6,x4)"
      ]
    },
    {
      "cell_type": "code",
      "execution_count": 122,
      "metadata": {
        "colab": {
          "base_uri": "https://localhost:8080/"
        },
        "id": "ad8coZTn37sT",
        "outputId": "c35d6b62-bb1e-4825-ba74-29f285e35bb2"
      },
      "outputs": [
        {
          "output_type": "stream",
          "name": "stdout",
          "text": [
            "\n",
            "\tPearson's product-moment correlation\n",
            "\n",
            "data:  x6 and x5\n",
            "t = -1.5336, df = 63, p-value = 0.1301\n",
            "alternative hypothesis: true correlation is not equal to 0\n",
            "95 percent confidence interval:\n",
            " -0.41443375  0.05681748\n",
            "sample estimates:\n",
            "       cor \n",
            "-0.1897106 \n",
            "\n"
          ]
        }
      ],
      "source": [
        "CT6 = cor.test(x6,x5)\n",
        "print(CT6)"
      ]
    },
    {
      "cell_type": "markdown",
      "source": [
        "poission distribution"
      ],
      "metadata": {
        "id": "td02V3ai3mHD"
      }
    },
    {
      "cell_type": "code",
      "source": [
        "rp =rpois(myData$Total.Library.Size,mean1)\n",
        "print(rp)"
      ],
      "metadata": {
        "colab": {
          "base_uri": "https://localhost:8080/"
        },
        "id": "K9OYuw-tOm6n",
        "outputId": "52a0483c-8704-4cf4-e144-28fa839642e6"
      },
      "execution_count": 123,
      "outputs": [
        {
          "output_type": "stream",
          "name": "stdout",
          "text": [
            " [1] 5347 5414 5404 5378 5191 5232 5274 5169 5336 5239 5252 5208 5179 5316 5314\n",
            "[16] 5358 5328 5353 5177 5354 5241 5279 5365 5410 5293 5371 5220 5342 5444 5231\n",
            "[31] 5296 5277 5491 5357 5336 5466 5324 5326 5244 5316 5359 5347 5483 5344 5244\n",
            "[46] 5228 5194 5339 5405 5390 5395 5261 5297 5444 5331 5392 5376 5271 5250 5337\n",
            "[61] 5311 5304 5357 5307 5425\n"
          ]
        }
      ]
    },
    {
      "cell_type": "code",
      "source": [
        "scatter.smooth(rp)"
      ],
      "metadata": {
        "colab": {
          "base_uri": "https://localhost:8080/",
          "height": 437
        },
        "id": "_3cCpj9J45Lt",
        "outputId": "0a38b1e2-2970-4bdf-ad42-298269a2e0f2"
      },
      "execution_count": 124,
      "outputs": [
        {
          "output_type": "display_data",
          "data": {
            "text/plain": [
              "plot without title"
            ],
            "image/png": "[encoded data removed]"
          },
          "metadata": {
            "image/png": {
              "width": 420,
              "height": 420
            }
          }
        }
      ]
    },
    {
      "cell_type": "code",
      "source": [
        "rp2 = rpois(myData$No..of.TV.Shows,mean2)\n",
        "print(rp2)"
      ],
      "metadata": {
        "colab": {
          "base_uri": "https://localhost:8080/"
        },
        "id": "yChV-kikMy2I",
        "outputId": "99155057-5bac-4665-ef71-cecd2d0d002e"
      },
      "execution_count": 125,
      "outputs": [
        {
          "output_type": "stream",
          "name": "stdout",
          "text": [
            " [1] 3557 3561 3540 3465 3600 3559 3617 3495 3534 3464 3521 3577 3499 3498 3550\n",
            "[16] 3358 3573 3580 3539 3463 3499 3524 3502 3491 3594 3396 3556 3501 3486 3515\n",
            "[31] 3576 3629 3567 3453 3641 3526 3494 3428 3459 3558 3406 3568 3410 3535 3598\n",
            "[46] 3574 3558 3582 3540 3473 3560 3469 3592 3396 3499 3444 3673 3319 3566 3511\n",
            "[61] 3469 3556 3504 3502 3516\n"
          ]
        }
      ]
    },
    {
      "cell_type": "code",
      "source": [
        "rp3 = rpois(myData$Cost.Per.Month...Basic....,mean3)\n",
        "print(rp3)"
      ],
      "metadata": {
        "colab": {
          "base_uri": "https://localhost:8080/"
        },
        "id": "JcOHiBrROjsf",
        "outputId": "8fbe2d95-83d7-4660-f6a3-c2e59341a5da"
      },
      "execution_count": 126,
      "outputs": [
        {
          "output_type": "stream",
          "name": "stdout",
          "text": [
            " [1] 10 11  8 12 11 10  7 11  8  4  6  5 18 11 12  5 11  7  3  9  8  8 10  9  8\n",
            "[26]  9  8 13  9  7  5 10  6  9 13  6 11  8  8 14  3 10  7  9  8 10  7  6  7  6\n",
            "[51] 11  9  5 13  6 10  8  2  7  5  9  7  8 14  9\n"
          ]
        }
      ]
    },
    {
      "cell_type": "code",
      "source": [
        "rp4 = rpois(myData$Cost.Per.Month...Standard....,mean4)\n",
        "print(rp4)"
      ],
      "metadata": {
        "colab": {
          "base_uri": "https://localhost:8080/"
        },
        "id": "lTj7GUR3Oo7v",
        "outputId": "2ec45601-4c43-428f-f4ca-a4902843db87"
      },
      "execution_count": 127,
      "outputs": [
        {
          "output_type": "stream",
          "name": "stdout",
          "text": [
            " [1] 12 10 13 11  8 14 10 15 12 12 10 13 17 14 16 11 15 20  9 12 11  8 11 13 10\n",
            "[26] 13  4  8 14 14 13 14 17 16  8  9  9 12 13 16 14 14  7 10 16 11  8 15 14 18\n",
            "[51]  9 12 14 11 17 14  9  8 17  9 13  9 18 21  9\n"
          ]
        }
      ]
    },
    {
      "cell_type": "code",
      "source": [
        "rp5 = rpois(myData$Cost.Per.Month...Premium....,mean5)\n",
        "print(rp5)"
      ],
      "metadata": {
        "colab": {
          "base_uri": "https://localhost:8080/"
        },
        "id": "ceOfgd5mOtTK",
        "outputId": "e079a41f-c843-4ad4-8053-6b586e11197a"
      },
      "execution_count": 128,
      "outputs": [
        {
          "output_type": "stream",
          "name": "stdout",
          "text": [
            " [1] 18 13 15 22 15 16 14 21 11 23 14 17 26 14 14 12 17 14 25 16 16  7 22 16 21\n",
            "[26] 11 13 19 11 20 18 18 17 25  9 14 19 10 21 15 15 19 19 23 11 19 15 14 18 17\n",
            "[51] 11 13 15 19 20 14 17 11 18 11 14 13 14 10  7\n"
          ]
        }
      ]
    },
    {
      "cell_type": "code",
      "source": [
        "rp6 = rpois(myData$No..of.Movies,mean6)\n",
        "print(rp6)"
      ],
      "metadata": {
        "colab": {
          "base_uri": "https://localhost:8080/"
        },
        "id": "Nw-i_C2pOxOY",
        "outputId": "3fc1136b-9993-45cd-e02c-db114125176f"
      },
      "execution_count": 129,
      "outputs": [
        {
          "output_type": "stream",
          "name": "stdout",
          "text": [
            " [1] 1865 1894 1778 1760 1860 1804 1777 1851 1777 1802 1769 1824 1760 1697 1804\n",
            "[16] 1781 1799 1816 1771 1831 1808 1774 1791 1870 1846 1864 1806 1791 1826 1709\n",
            "[31] 1777 1750 1808 1806 1795 1809 1756 1716 1831 1823 1746 1868 1785 1776 1784\n",
            "[46] 1771 1759 1810 1860 1719 1822 1764 1748 1797 1851 1758 1753 1799 1786 1821\n",
            "[61] 1775 1790 1818 1788 1798\n"
          ]
        }
      ]
    },
    {
      "cell_type": "markdown",
      "metadata": {
        "id": "WKfonymG4ZJr"
      },
      "source": [
        "In *above* Section we have used one sided & two sided T-test.\n",
        "correlation test to measure any correlation in variables"
      ]
    },
    {
      "cell_type": "markdown",
      "source": [
        "Bernoulli model"
      ],
      "metadata": {
        "id": "wuwijc69SC79"
      }
    },
    {
      "cell_type": "code",
      "source": [
        "N = (myData$Total.Library.Size)\n",
        "print(N)"
      ],
      "metadata": {
        "colab": {
          "base_uri": "https://localhost:8080/"
        },
        "id": "wJEZDQqblWQ7",
        "outputId": "c048584b-87ed-4761-82d5-5cf254fd568a"
      },
      "execution_count": 130,
      "outputs": [
        {
          "output_type": "stream",
          "name": "stdout",
          "text": [
            " [1] 4760 5640 4991 6797 4994 4991 4988 2274 7325 4992 6456 5445 5668 6167 4772\n",
            "[16] 4767 4989 4746 6387 5843 5713 5183 5475 3048 5952 4993 3937 5804 4528 4797\n",
            "[31] 4986 6362 5109 5303 5711 2310 7035 5736 5195 5105 4948 4639 5336 4989 4797\n",
            "[46] 4990 6303 4045 6450 6084 6884 5047 5376 4361 6239 6462 5229 6643 3887 4972\n",
            "[61] 6486 5506 6114 4558 5818\n"
          ]
        }
      ]
    },
    {
      "cell_type": "code",
      "source": [
        "scatter.smooth(N)"
      ],
      "metadata": {
        "colab": {
          "base_uri": "https://localhost:8080/",
          "height": 437
        },
        "id": "hKz5ozlf3KKG",
        "outputId": "87f96b52-3f6a-45d6-83aa-700c77d2ccae"
      },
      "execution_count": 131,
      "outputs": [
        {
          "output_type": "display_data",
          "data": {
            "text/plain": [
              "plot without title"
            ],
            "image/png": "[encoded data removed]"
          },
          "metadata": {
            "image/png": {
              "width": 420,
              "height": 420
            }
          }
        }
      ]
    },
    {
      "cell_type": "code",
      "source": [
        "library(tidyverse)"
      ],
      "metadata": {
        "id": "HzjeEneeliQF"
      },
      "execution_count": 132,
      "outputs": []
    },
    {
      "cell_type": "code",
      "source": [
        "dt = myData"
      ],
      "metadata": {
        "id": "A10v5HZHpX79"
      },
      "execution_count": 133,
      "outputs": []
    },
    {
      "cell_type": "markdown",
      "source": [
        "values below are the median of library size and no, of tv shows\n"
      ],
      "metadata": {
        "id": "njLe1mauqbFG"
      }
    },
    {
      "cell_type": "code",
      "source": [
        "\n",
        "a = filter(dt ,dt$Total.Library.Size<5195)\n",
        "b = filter(dt ,dt$No..of.TV.Shows<3512)\n"
      ],
      "metadata": {
        "id": "JLxYN0fndy74"
      },
      "execution_count": 134,
      "outputs": []
    },
    {
      "cell_type": "markdown",
      "source": [
        "below is the probability of no. of tv show where, S(dt) is total library size"
      ],
      "metadata": {
        "id": "eEPTdHdBhWtc"
      }
    },
    {
      "cell_type": "code",
      "source": [
        "n_a = nrow(a) ; n_dt = nrow(dt)\n",
        "p_a = n_a/n_dt\n",
        "print(p_a)"
      ],
      "metadata": {
        "colab": {
          "base_uri": "https://localhost:8080/"
        },
        "id": "lUI54iO3gaaV",
        "outputId": "2511c21b-ea2c-4e4b-c1b3-81bf6aea4965"
      },
      "execution_count": 135,
      "outputs": [
        {
          "output_type": "stream",
          "name": "stdout",
          "text": [
            "[1] 0.4923077\n"
          ]
        }
      ]
    },
    {
      "cell_type": "code",
      "source": [
        "X = c(myData$Total.Library.Size)"
      ],
      "metadata": {
        "id": "rgxY-Zt8h5hW"
      },
      "execution_count": 136,
      "outputs": []
    },
    {
      "cell_type": "code",
      "source": [
        "P = (p_a)"
      ],
      "metadata": {
        "id": "rFyZWLr1iSfp"
      },
      "execution_count": 137,
      "outputs": []
    },
    {
      "cell_type": "markdown",
      "source": [
        "rbinom(s,1,p)\n",
        "where s = total library size,\n",
        "      p = probability of n_a/n_dt (i.e. n/s)"
      ],
      "metadata": {
        "id": "AgW_y9S-jUuH"
      }
    },
    {
      "cell_type": "code",
      "source": [
        "R1 = rbinom((dt$Total.Library.Size),1,P)\n",
        "print(R1)"
      ],
      "metadata": {
        "colab": {
          "base_uri": "https://localhost:8080/"
        },
        "id": "-xzleLWSSCIM",
        "outputId": "4189b50e-b57a-4c8c-9c47-2289a2549798"
      },
      "execution_count": 138,
      "outputs": [
        {
          "output_type": "stream",
          "name": "stdout",
          "text": [
            " [1] 0 1 0 0 1 0 1 0 1 0 0 0 0 0 1 1 0 0 0 1 0 1 0 1 1 1 1 0 1 1 0 1 0 0 1 0 0 0\n",
            "[39] 0 0 0 0 0 0 0 1 0 1 0 0 1 0 1 1 1 1 0 0 1 1 1 1 1 1 0\n"
          ]
        }
      ]
    },
    {
      "cell_type": "code",
      "source": [
        "scatter.smooth(R1)"
      ],
      "metadata": {
        "colab": {
          "base_uri": "https://localhost:8080/",
          "height": 437
        },
        "id": "xDjD1Bdf29O0",
        "outputId": "641d5890-fa60-450c-e8a9-7d24ea6dfccf"
      },
      "execution_count": 140,
      "outputs": [
        {
          "output_type": "display_data",
          "data": {
            "text/plain": [
              "plot without title"
            ],
            "image/png": "[encoded data removed]"
          },
          "metadata": {
            "image/png": {
              "width": 420,
              "height": 420
            }
          }
        }
      ]
    },
    {
      "cell_type": "code",
      "source": [
        "table(R1)"
      ],
      "metadata": {
        "colab": {
          "base_uri": "https://localhost:8080/",
          "height": 69
        },
        "id": "4CFFEEu0-8iV",
        "outputId": "c7449d63-0f3c-4ee7-c231-3f4efc1e225c"
      },
      "execution_count": 139,
      "outputs": [
        {
          "output_type": "display_data",
          "data": {
            "text/plain": [
              "R1\n",
              " 0  1 \n",
              "36 29 "
            ]
          },
          "metadata": {}
        }
      ]
    },
    {
      "cell_type": "code",
      "source": [
        "c = filter(dt ,dt$No..of.Movies<1795.462)"
      ],
      "metadata": {
        "id": "3iVXeq-GkM8p"
      },
      "execution_count": 141,
      "outputs": []
    },
    {
      "cell_type": "code",
      "source": [
        "n_c = nrow(c) ; n_dt = nrow(dt)\n",
        "p_c = n_c/n_dt\n",
        "print(p_c)"
      ],
      "metadata": {
        "colab": {
          "base_uri": "https://localhost:8080/"
        },
        "id": "CbJh9PwhpMOs",
        "outputId": "89d73903-24f9-4297-ee53-80fad3aa97fa"
      },
      "execution_count": 142,
      "outputs": [
        {
          "output_type": "stream",
          "name": "stdout",
          "text": [
            "[1] 0.3384615\n"
          ]
        }
      ]
    },
    {
      "cell_type": "code",
      "source": [
        "P1 = (p_c)"
      ],
      "metadata": {
        "id": "31-SkIuFqBVz"
      },
      "execution_count": 143,
      "outputs": []
    },
    {
      "cell_type": "code",
      "source": [
        "R2 = rbinom((dt$Total.Library.Size),1,P1)\n",
        "print(R2)"
      ],
      "metadata": {
        "colab": {
          "base_uri": "https://localhost:8080/"
        },
        "id": "-qxI7eaqqJ9P",
        "outputId": "038644d0-2e08-4a05-8958-0294e1581b85"
      },
      "execution_count": 144,
      "outputs": [
        {
          "output_type": "stream",
          "name": "stdout",
          "text": [
            " [1] 1 1 0 0 1 0 1 0 0 0 0 0 0 1 1 0 0 0 1 0 1 1 0 0 0 0 0 0 1 1 0 0 0 1 0 1 1 1\n",
            "[39] 0 1 0 0 0 0 0 0 0 1 1 0 1 1 0 0 0 1 1 1 0 0 0 0 1 1 0\n"
          ]
        }
      ]
    },
    {
      "cell_type": "code",
      "source": [
        "scatter.smooth(R2)"
      ],
      "metadata": {
        "colab": {
          "base_uri": "https://localhost:8080/",
          "height": 437
        },
        "id": "XW5i623W2fO-",
        "outputId": "c9353594-e1e4-4800-e412-9d478fe4dffe"
      },
      "execution_count": 145,
      "outputs": [
        {
          "output_type": "display_data",
          "data": {
            "text/plain": [
              "plot without title"
            ],
            "image/png": "[encoded data removed]"
          },
          "metadata": {
            "image/png": {
              "width": 420,
              "height": 420
            }
          }
        }
      ]
    },
    {
      "cell_type": "code",
      "source": [
        "table(R2)"
      ],
      "metadata": {
        "colab": {
          "base_uri": "https://localhost:8080/",
          "height": 69
        },
        "id": "SeIf7UJX-jbP",
        "outputId": "0bbbb3e1-d9fa-44fb-fea2-b6908a2dc1e3"
      },
      "execution_count": 146,
      "outputs": [
        {
          "output_type": "display_data",
          "data": {
            "text/plain": [
              "R2\n",
              " 0  1 \n",
              "40 25 "
            ]
          },
          "metadata": {}
        }
      ]
    },
    {
      "cell_type": "markdown",
      "source": [
        "Uniform model"
      ],
      "metadata": {
        "id": "cXoGFBpJxcBw"
      }
    },
    {
      "cell_type": "code",
      "source": [
        "RU1 =runif(dt$No..of.TV.Shows,min2,max2)\n",
        "print(RU1)"
      ],
      "metadata": {
        "colab": {
          "base_uri": "https://localhost:8080/"
        },
        "id": "08JvLhOYwkKq",
        "outputId": "b9910227-1de4-4db3-f358-9ada543da582"
      },
      "execution_count": 147,
      "outputs": [
        {
          "output_type": "stream",
          "name": "stdout",
          "text": [
            " [1] 3537.827 2873.358 3637.501 2059.323 2271.587 4078.871 4064.888 2761.771\n",
            " [9] 2975.490 3206.960 2728.790 3038.715 4810.441 3846.015 4396.445 2368.846\n",
            "[17] 2908.699 4404.471 3465.212 2111.178 2936.874 2271.282 4204.003 4578.817\n",
            "[25] 3238.797 2200.132 2956.253 4729.104 4610.113 5090.199 1985.867 2856.176\n",
            "[33] 4345.176 3320.967 4849.031 5048.024 2545.901 4508.776 3617.647 2026.473\n",
            "[41] 3574.357 3069.319 4535.998 4358.500 1753.669 3340.838 2701.092 4969.756\n",
            "[49] 3397.436 2934.353 4295.766 5038.546 2026.863 4287.863 4088.531 3233.041\n",
            "[57] 4772.220 4146.458 4524.249 5188.565 3914.086 4755.658 3124.319 2653.922\n",
            "[65] 1686.028\n"
          ]
        }
      ]
    },
    {
      "cell_type": "code",
      "source": [
        "hist.default(RU1)"
      ],
      "metadata": {
        "colab": {
          "base_uri": "https://localhost:8080/",
          "height": 437
        },
        "id": "OmSbwA0T2ImN",
        "outputId": "504fb248-227e-49d0-c23a-4d4e4d7323e0"
      },
      "execution_count": 148,
      "outputs": [
        {
          "output_type": "display_data",
          "data": {
            "text/plain": [
              "Plot with title “Histogram of RU1”"
            ],
            "image/png": "[encoded data removed]"
          },
          "metadata": {
            "image/png": {
              "width": 420,
              "height": 420
            }
          }
        }
      ]
    },
    {
      "cell_type": "code",
      "source": [
        "RU2 =runif(dt$No..of.Movies,min6,max6)\n",
        "print(RU2)"
      ],
      "metadata": {
        "colab": {
          "base_uri": "https://localhost:8080/"
        },
        "id": "lGFdGT3lxtVn",
        "outputId": "54904dca-f824-44ea-8d9b-ea7f8ca790d2"
      },
      "execution_count": 149,
      "outputs": [
        {
          "output_type": "stream",
          "name": "stdout",
          "text": [
            " [1] 1515.2359 1023.6579 1934.7824 1429.4153  814.8098  509.1796 1313.4310\n",
            " [8] 1938.3482  642.4949 1176.7904 2307.1951 2116.0663 1496.4310 1922.4231\n",
            "[15] 1818.5669 2349.3738 1387.4331 1723.0321  575.2715 2279.3353 1297.8031\n",
            "[22] 1186.0881  570.2635 1204.0027 1960.4551  642.9202 1988.8117  954.2128\n",
            "[29]  688.8314  496.2720 1838.7761 1354.7308 2320.8332 1811.6403  632.3962\n",
            "[36]  391.5072  944.2790 2344.2733 2282.6741  630.1668 2328.2646 2060.4255\n",
            "[43] 1465.7803 2232.1096  388.0861  549.1536 1211.4962 1946.7854 1380.3925\n",
            "[50] 1270.6826 2255.3784 1064.6789 1421.7965 2328.6957 1814.2430  440.6469\n",
            "[57]  659.8300 1942.1915 2066.7212 1838.5155  447.2329 1863.5639  629.4982\n",
            "[64] 1880.2794 1559.7247\n"
          ]
        }
      ]
    },
    {
      "cell_type": "code",
      "source": [
        "hist.default(RU2)"
      ],
      "metadata": {
        "colab": {
          "base_uri": "https://localhost:8080/",
          "height": 437
        },
        "id": "-fS08JBt2AWY",
        "outputId": "2b9a750d-0ff3-4d9b-9e44-f58db2bdd1ee"
      },
      "execution_count": 150,
      "outputs": [
        {
          "output_type": "display_data",
          "data": {
            "text/plain": [
              "Plot with title “Histogram of RU2”"
            ],
            "image/png": "[encoded data removed]"
          },
          "metadata": {
            "image/png": {
              "width": 420,
              "height": 420
            }
          }
        }
      ]
    },
    {
      "cell_type": "code",
      "source": [
        "RU3 =runif(dt$Cost.Per.Month...Basic...,min3,max3)\n",
        "print(RU3)\n"
      ],
      "metadata": {
        "colab": {
          "base_uri": "https://localhost:8080/"
        },
        "id": "EcjMUvu90MeW",
        "outputId": "29aee5a8-040a-4ab5-c920-5ee6e47ebb9a"
      },
      "execution_count": 151,
      "outputs": [
        {
          "output_type": "stream",
          "name": "stdout",
          "text": [
            " [1]  9.925726  7.430448  7.882137  2.603033  9.941057  5.214890 10.545916\n",
            " [8]  3.806484  2.620578  7.982473  9.912314 11.346163 11.722534 12.063104\n",
            "[15]  4.332221  6.695624  5.571979 10.950805  2.011366 11.587794  9.789910\n",
            "[22]  8.078589  8.710224  9.572147  5.816918  3.812872 12.213197  4.893630\n",
            "[29]  6.338163  5.737817  2.448474  4.725042  6.625196  4.007058  7.446710\n",
            "[36]  7.812274  6.166103  6.203958  6.531226  9.180953  9.052695 10.646858\n",
            "[43]  9.927592 10.435445  4.545809  9.073420  2.235687 11.770681  8.421031\n",
            "[50]  6.641251  9.596631  2.082041  3.773834  6.543362  5.262129  8.180719\n",
            "[57]  5.954754  6.469886  5.524819  9.210319  5.392453  2.728630 12.341015\n",
            "[64] 11.593806  9.586794\n"
          ]
        }
      ]
    },
    {
      "cell_type": "code",
      "source": [
        "hist.default(RU3)"
      ],
      "metadata": {
        "colab": {
          "base_uri": "https://localhost:8080/",
          "height": 437
        },
        "id": "De269zyl17tw",
        "outputId": "f5270aca-49bb-4c54-dc39-5064a3f88991"
      },
      "execution_count": 152,
      "outputs": [
        {
          "output_type": "display_data",
          "data": {
            "text/plain": [
              "Plot with title “Histogram of RU3”"
            ],
            "image/png": "[encoded data removed]"
          },
          "metadata": {
            "image/png": {
              "width": 420,
              "height": 420
            }
          }
        }
      ]
    },
    {
      "cell_type": "code",
      "source": [
        "RU4 =runif(dt$Cost.Per.Month...Standard...,min4,max4)\n",
        "print(RU4)"
      ],
      "metadata": {
        "colab": {
          "base_uri": "https://localhost:8080/"
        },
        "id": "6_PYnWwq0dWo",
        "outputId": "e37dc69e-feca-42e4-a93e-3793fddabac9"
      },
      "execution_count": 153,
      "outputs": [
        {
          "output_type": "stream",
          "name": "stdout",
          "text": [
            " [1] 15.993255 20.204811 18.630579 17.938348 19.661009  9.895847  8.212728\n",
            " [8] 13.907356  8.615807 15.626167 15.675845 19.137107  6.532202  9.830129\n",
            "[15] 16.538683  8.780846 14.490022 19.063181 17.919551  8.426610  3.716279\n",
            "[22] 13.293758 15.514408 15.786338  5.750166  4.353879 11.889130 12.901050\n",
            "[29] 17.237078 12.385031 10.272973  3.284022 15.171226 11.042403 19.104160\n",
            "[36]  3.811173 11.943894  5.510269  7.286909  8.819356  6.429221 19.838110\n",
            "[43] 12.185926 18.672361 18.281275 18.044960  6.208814  5.905424 17.339873\n",
            "[50]  5.646394 20.123277 19.626008 16.166069 20.441186 12.665303 19.302191\n",
            "[57] 16.914049 12.701640 15.269048 12.659509 11.034670 19.471608  7.186066\n",
            "[64] 17.531228 14.917271\n"
          ]
        }
      ]
    },
    {
      "cell_type": "code",
      "source": [
        "hist.default(RU4)"
      ],
      "metadata": {
        "colab": {
          "base_uri": "https://localhost:8080/",
          "height": 437
        },
        "id": "gUK_p-3g10LD",
        "outputId": "637173c4-b73d-4175-c3a5-192e7097365f"
      },
      "execution_count": 154,
      "outputs": [
        {
          "output_type": "display_data",
          "data": {
            "text/plain": [
              "Plot with title “Histogram of RU4”"
            ],
            "image/png": "[encoded data removed]"
          },
          "metadata": {
            "image/png": {
              "width": 420,
              "height": 420
            }
          }
        }
      ]
    },
    {
      "cell_type": "code",
      "source": [
        "RU5 = runif(dt$Cost.Per.Month...Premium...,min5,max5)\n",
        "print(RU5)"
      ],
      "metadata": {
        "colab": {
          "base_uri": "https://localhost:8080/"
        },
        "id": "EtJHQeRC0vrG",
        "outputId": "4120b37a-9b62-4815-a95d-ee5744f04604"
      },
      "execution_count": 155,
      "outputs": [
        {
          "output_type": "stream",
          "name": "stdout",
          "text": [
            " [1] 12.097483 11.668626  4.848112 14.774315  8.707655 25.517983  9.719181\n",
            " [8] 22.761250 14.292567 15.862217 22.432362 15.309549 12.124721 16.244906\n",
            "[15]  6.943648  7.227523 22.790891 12.263694 26.429835  6.303106  9.081844\n",
            "[22]  9.825769  4.271249 18.904894 25.170021  8.263200  8.951504 22.592784\n",
            "[29] 19.556946 23.273093 18.852204 18.484898 14.847277 24.580220 19.559118\n",
            "[36] 23.400983 20.554861 15.009073  5.397201 12.830381 23.419242 26.867640\n",
            "[43] 11.920300  9.827719 25.309791 24.792294  9.373327 18.342079  8.238889\n",
            "[50] 23.255775 15.172053 20.299676 11.258158  9.215555 13.393757 10.083488\n",
            "[57] 17.810996  7.835315 14.538943 25.624208 13.878175 19.756434 21.086092\n",
            "[64] 23.477843  6.873672\n"
          ]
        }
      ]
    },
    {
      "cell_type": "code",
      "source": [
        "hist.default(RU5)"
      ],
      "metadata": {
        "colab": {
          "base_uri": "https://localhost:8080/",
          "height": 437
        },
        "id": "URcwlcI41RX9",
        "outputId": "6119420e-9d19-4c24-9c74-ed1c54642234"
      },
      "execution_count": 163,
      "outputs": [
        {
          "output_type": "display_data",
          "data": {
            "text/plain": [
              "Plot with title “Histogram of RU5”"
            ],
            "image/png": "[encoded data removed]"
          },
          "metadata": {
            "image/png": {
              "width": 420,
              "height": 420
            }
          }
        }
      ]
    }
  ],
  "metadata": {
    "colab": {
      "collapsed_sections": [],
      "name": "Ststistics CA1.ipynb",
      "provenance": [],
      "toc_visible": true
    },
    "kernelspec": {
      "display_name": "R",
      "name": "ir"
    },
    "language_info": {
      "name": "R"
    }
  },
  "nbformat": 4,
  "nbformat_minor": 0
}